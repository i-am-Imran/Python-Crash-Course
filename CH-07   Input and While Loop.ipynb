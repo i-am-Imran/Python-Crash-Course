{
 "cells": [
  {
   "cell_type": "code",
   "execution_count": 12,
   "id": "973c1436",
   "metadata": {},
   "outputs": [
    {
     "name": "stdout",
     "output_type": "stream",
     "text": [
      "What are the requested toppings: cheese\n",
      "Requested Toppings : ['cheese']\n",
      "\n",
      "Next topping?  or 'quit' to exit: yello\n",
      "Requested Toppings : ['cheese', 'yello']\n",
      "\n",
      "Next topping?  or 'quit' to exit: green\n",
      "Requested Toppings : ['cheese', 'yello', 'green']\n",
      "\n",
      "Next topping?  or 'quit' to exit: black\n",
      "Requested Toppings : ['cheese', 'yello', 'green', 'black']\n",
      "\n",
      "Next topping?  or 'quit' to exit: white\n",
      "Requested Toppings : ['cheese', 'yello', 'green', 'black', 'white']\n",
      "\n",
      "Next topping?  or 'quit' to exit: blue\n",
      "Requested Toppings : ['cheese', 'yello', 'green', 'black', 'white', 'blue']\n",
      "\n",
      "Next topping?  or 'quit' to exit: busy\n",
      "Requested Toppings : ['cheese', 'yello', 'green', 'black', 'white', 'blue', 'busy']\n",
      "\n",
      "Next topping?  or 'quit' to exit: quit\n"
     ]
    }
   ],
   "source": [
    "toppings_requested = []\n",
    "toppings = input('What are the requested toppings: ')\n",
    "while toppings != 'quit':\n",
    "    toppings_requested.append(toppings)\n",
    "    print(f\"Requested Toppings : {toppings_requested}\")\n",
    "    toppings = input(\"\\nNext topping?  or 'quit' to exit: \")    \n",
    "    "
   ]
  },
  {
   "cell_type": "code",
   "execution_count": 14,
   "id": "5632f9ad",
   "metadata": {},
   "outputs": [
    {
     "name": "stdout",
     "output_type": "stream",
     "text": [
      "Enter age to check the Ticket price: 33\n",
      "15 $\n"
     ]
    }
   ],
   "source": [
    "age = input(\"Enter age to check the Ticket price: \")\n",
    "age = int(age)\n",
    "if age < 3:\n",
    "    print(\"Free of cost\")\n",
    "elif age > 3 and age <= 12:\n",
    "    print(\"10 $\")\n",
    "else:\n",
    "    print(\"15 $\")"
   ]
  },
  {
   "cell_type": "code",
   "execution_count": null,
   "id": "dafaf153",
   "metadata": {},
   "outputs": [],
   "source": [
    "7-6.\n",
    "Three Exits: Write different versions of either Exercise 7-4 or Exercise 7-5\n",
    "that do each of the following at least once:\n",
    "•\t Use a conditional test in the while statement to stop the loop.\n",
    "•\t Use an active variable to control how long the loop runs.\n",
    "•\t Use a break statement to exit the loop when the user enters a 'quit' value.\n",
    "7-7. \n",
    "Infinity: Write a loop that never ends, and run it. \n",
    "(To end the loop, press ctrl-C or close the window displaying the output.)"
   ]
  },
  {
   "cell_type": "code",
   "execution_count": 20,
   "id": "b4b1bf0e",
   "metadata": {},
   "outputs": [
    {
     "name": "stdout",
     "output_type": "stream",
     "text": [
      "Any number, having fun?1\n",
      "['1']\n",
      "Next or 'quit' to exit: 2\n",
      "['1', '2']\n",
      "Next or 'quit' to exit: 3\n",
      "['1', '2', '3']\n",
      "Next or 'quit' to exit: 4\n",
      "['1', '2', '3', '4']\n",
      "Next or 'quit' to exit: 5\n",
      "['1', '2', '3', '4', '5']\n",
      "Next or 'quit' to exit: 6\n",
      "['1', '2', '3', '4', '5', '6']\n",
      "Next or 'quit' to exit: 0\n"
     ]
    }
   ],
   "source": [
    "new_num = input(\"Any number, having fun?\")\n",
    "z = []\n",
    "while int(new_num):\n",
    "    z.append(new_num)\n",
    "    print(z)\n",
    "    new_num = input(\"Next or 'quit' to exit: \")\n",
    "    "
   ]
  },
  {
   "cell_type": "code",
   "execution_count": 4,
   "id": "44ee2f88",
   "metadata": {},
   "outputs": [
    {
     "name": "stdout",
     "output_type": "stream",
     "text": [
      "Tell me something, I'll repeat it. Or enter 'quit' to exit.heloo\n",
      "heloo\n",
      "Tell me something, I'll repeat it. Or enter 'quit' to exit.man\n",
      "man\n",
      "Tell me something, I'll repeat it. Or enter 'quit' to exit.what is my name\n",
      "what is my name\n",
      "Tell me something, I'll repeat it. Or enter 'quit' to exit.sir devos seaworth\n",
      "sir devos seaworth\n",
      "Tell me something, I'll repeat it. Or enter 'quit' to exit.lord terion are you altil\n",
      "lord terion are you altil\n",
      "Tell me something, I'll repeat it. Or enter 'quit' to exit.\n",
      "\n",
      "Tell me something, I'll repeat it. Or enter 'quit' to exit.\n",
      "\n",
      "Tell me something, I'll repeat it. Or enter 'quit' to exit.hello\n",
      "hello\n",
      "Tell me something, I'll repeat it. Or enter 'quit' to exit.quit\n"
     ]
    }
   ],
   "source": [
    "active = True\n",
    "while active:\n",
    "    message = input(\"Tell me something, I'll repeat it. Or enter 'quit' to exit.\")\n",
    "    if message.lower() == 'quit':\n",
    "        active = False\n",
    "        break\n",
    "    else:\n",
    "        print(message)"
   ]
  },
  {
   "cell_type": "code",
   "execution_count": 1,
   "id": "c9f29752",
   "metadata": {},
   "outputs": [
    {
     "ename": "SyntaxError",
     "evalue": "unexpected EOF while parsing (<ipython-input-1-9bf743420015>, line 3)",
     "output_type": "error",
     "traceback": [
      "\u001b[1;36m  File \u001b[1;32m\"<ipython-input-1-9bf743420015>\"\u001b[1;36m, line \u001b[1;32m3\u001b[0m\n\u001b[1;33m    print('Hello' + str(1)\u001b[0m\n\u001b[1;37m                          ^\u001b[0m\n\u001b[1;31mSyntaxError\u001b[0m\u001b[1;31m:\u001b[0m unexpected EOF while parsing\n"
     ]
    }
   ],
   "source": [
    "i = 1\n",
    "while i < 2:\n",
    "    print('Hello' + str(1)"
   ]
  },
  {
   "cell_type": "code",
   "execution_count": 10,
   "id": "061c0e6b",
   "metadata": {},
   "outputs": [
    {
     "name": "stdout",
     "output_type": "stream",
     "text": [
      "Enter a city name.patna\n",
      "\n",
      "I would like to go to patna\n"
     ]
    },
    {
     "ename": "KeyboardInterrupt",
     "evalue": "Interrupted by user",
     "output_type": "error",
     "traceback": [
      "\u001b[1;31m---------------------------------------------------------------------------\u001b[0m",
      "\u001b[1;31mKeyboardInterrupt\u001b[0m                         Traceback (most recent call last)",
      "\u001b[1;32m<ipython-input-10-24cf7b7ca7fd>\u001b[0m in \u001b[0;36m<module>\u001b[1;34m\u001b[0m\n\u001b[0;32m      1\u001b[0m \u001b[1;32mwhile\u001b[0m \u001b[1;32mTrue\u001b[0m\u001b[1;33m:\u001b[0m\u001b[1;33m\u001b[0m\u001b[1;33m\u001b[0m\u001b[0m\n\u001b[1;32m----> 2\u001b[1;33m     \u001b[0mmessage\u001b[0m \u001b[1;33m=\u001b[0m \u001b[0minput\u001b[0m\u001b[1;33m(\u001b[0m\u001b[1;34m'Enter a city name.'\u001b[0m\u001b[1;33m)\u001b[0m\u001b[1;33m\u001b[0m\u001b[1;33m\u001b[0m\u001b[0m\n\u001b[0m\u001b[0;32m      3\u001b[0m     \u001b[1;32mif\u001b[0m \u001b[0mmessage\u001b[0m \u001b[1;33m==\u001b[0m \u001b[1;34m'quit'\u001b[0m\u001b[1;33m:\u001b[0m\u001b[1;33m\u001b[0m\u001b[1;33m\u001b[0m\u001b[0m\n\u001b[0;32m      4\u001b[0m         \u001b[1;32mbreak\u001b[0m\u001b[1;33m\u001b[0m\u001b[1;33m\u001b[0m\u001b[0m\n\u001b[0;32m      5\u001b[0m     \u001b[1;32melse\u001b[0m\u001b[1;33m:\u001b[0m\u001b[1;33m\u001b[0m\u001b[1;33m\u001b[0m\u001b[0m\n",
      "\u001b[1;32m~\\anaconda3\\lib\\site-packages\\ipykernel\\kernelbase.py\u001b[0m in \u001b[0;36mraw_input\u001b[1;34m(self, prompt)\u001b[0m\n\u001b[0;32m    858\u001b[0m                 \u001b[1;34m\"raw_input was called, but this frontend does not support input requests.\"\u001b[0m\u001b[1;33m\u001b[0m\u001b[1;33m\u001b[0m\u001b[0m\n\u001b[0;32m    859\u001b[0m             )\n\u001b[1;32m--> 860\u001b[1;33m         return self._input_request(str(prompt),\n\u001b[0m\u001b[0;32m    861\u001b[0m             \u001b[0mself\u001b[0m\u001b[1;33m.\u001b[0m\u001b[0m_parent_ident\u001b[0m\u001b[1;33m,\u001b[0m\u001b[1;33m\u001b[0m\u001b[1;33m\u001b[0m\u001b[0m\n\u001b[0;32m    862\u001b[0m             \u001b[0mself\u001b[0m\u001b[1;33m.\u001b[0m\u001b[0m_parent_header\u001b[0m\u001b[1;33m,\u001b[0m\u001b[1;33m\u001b[0m\u001b[1;33m\u001b[0m\u001b[0m\n",
      "\u001b[1;32m~\\anaconda3\\lib\\site-packages\\ipykernel\\kernelbase.py\u001b[0m in \u001b[0;36m_input_request\u001b[1;34m(self, prompt, ident, parent, password)\u001b[0m\n\u001b[0;32m    902\u001b[0m             \u001b[1;32mexcept\u001b[0m \u001b[0mKeyboardInterrupt\u001b[0m\u001b[1;33m:\u001b[0m\u001b[1;33m\u001b[0m\u001b[1;33m\u001b[0m\u001b[0m\n\u001b[0;32m    903\u001b[0m                 \u001b[1;31m# re-raise KeyboardInterrupt, to truncate traceback\u001b[0m\u001b[1;33m\u001b[0m\u001b[1;33m\u001b[0m\u001b[1;33m\u001b[0m\u001b[0m\n\u001b[1;32m--> 904\u001b[1;33m                 \u001b[1;32mraise\u001b[0m \u001b[0mKeyboardInterrupt\u001b[0m\u001b[1;33m(\u001b[0m\u001b[1;34m\"Interrupted by user\"\u001b[0m\u001b[1;33m)\u001b[0m \u001b[1;32mfrom\u001b[0m \u001b[1;32mNone\u001b[0m\u001b[1;33m\u001b[0m\u001b[1;33m\u001b[0m\u001b[0m\n\u001b[0m\u001b[0;32m    905\u001b[0m             \u001b[1;32mexcept\u001b[0m \u001b[0mException\u001b[0m \u001b[1;32mas\u001b[0m \u001b[0me\u001b[0m\u001b[1;33m:\u001b[0m\u001b[1;33m\u001b[0m\u001b[1;33m\u001b[0m\u001b[0m\n\u001b[0;32m    906\u001b[0m                 \u001b[0mself\u001b[0m\u001b[1;33m.\u001b[0m\u001b[0mlog\u001b[0m\u001b[1;33m.\u001b[0m\u001b[0mwarning\u001b[0m\u001b[1;33m(\u001b[0m\u001b[1;34m\"Invalid Message:\"\u001b[0m\u001b[1;33m,\u001b[0m \u001b[0mexc_info\u001b[0m\u001b[1;33m=\u001b[0m\u001b[1;32mTrue\u001b[0m\u001b[1;33m)\u001b[0m\u001b[1;33m\u001b[0m\u001b[1;33m\u001b[0m\u001b[0m\n",
      "\u001b[1;31mKeyboardInterrupt\u001b[0m: Interrupted by user"
     ]
    }
   ],
   "source": [
    "while True:\n",
    "    message = input('Enter a city name.'))\n",
    "    if message == 'quit':\n",
    "        break\n",
    "    else:\n",
    "        print(f\"\\nI would like to go to {message}\")"
   ]
  },
  {
   "cell_type": "code",
   "execution_count": 13,
   "id": "5d3d3837",
   "metadata": {},
   "outputs": [
    {
     "name": "stdout",
     "output_type": "stream",
     "text": [
      "Cities you have visited.gaya\n",
      "Cities you have visited.bihar\n",
      "Cities you have visited.india\n",
      "Cities you have visited.gaya\n",
      "Cities you have visited.quit\n",
      "\n",
      "These cities you have been through:\n",
      "Gaya\n",
      "Bihar\n",
      "India\n",
      "Gaya\n"
     ]
    }
   ],
   "source": [
    "cities = []\n",
    "while True:\n",
    "    city = input('Cities you have visited.')\n",
    "    if city == 'quit':\n",
    "        break\n",
    "    else:\n",
    "        cities.append(city)\n",
    "print('\\nThese cities you have been through:')\n",
    "for x in cities:\n",
    "    print(x.title())"
   ]
  },
  {
   "cell_type": "code",
   "execution_count": 14,
   "id": "263f01f0",
   "metadata": {},
   "outputs": [],
   "source": [
    "#Continue"
   ]
  },
  {
   "cell_type": "code",
   "execution_count": 15,
   "id": "f3c46976",
   "metadata": {},
   "outputs": [
    {
     "name": "stdout",
     "output_type": "stream",
     "text": [
      "1\n",
      "3\n",
      "5\n",
      "7\n",
      "9\n",
      "11\n"
     ]
    }
   ],
   "source": [
    "current_number = 0\n",
    "while current_number < 11:\n",
    "    current_number+=1\n",
    "    if current_number % 2 == 0:\n",
    "        continue\n",
    "    print(current_number)"
   ]
  },
  {
   "cell_type": "code",
   "execution_count": 30,
   "id": "a25d6db1",
   "metadata": {},
   "outputs": [
    {
     "name": "stdout",
     "output_type": "stream",
     "text": [
      "Verifying user: Jon\n",
      "Verifying user: Brian\n",
      "Verifying user: Alice\n",
      "Verifying user: Julie\n",
      "\n",
      "These are confirmed users: \n",
      "Jon\n",
      "Brian\n",
      "Alice\n",
      "julie\n"
     ]
    }
   ],
   "source": [
    "unconfirmed_users = ['julie','Alice','Brian','Jon']\n",
    "confirmed_users = []\n",
    "while unconfirmed_users:\n",
    "    current_user = unconfirmed_users.pop()\n",
    "    print(f\"Verifying user: {current_user.title()}\")\n",
    "    confirmed_users.append(current_user)\n",
    "print('\\nThese are confirmed users: ')\n",
    "for x in confirmed_users:\n",
    "    print(x)"
   ]
  },
  {
   "cell_type": "code",
   "execution_count": 5,
   "id": "fb0a04d2",
   "metadata": {},
   "outputs": [
    {
     "name": "stdout",
     "output_type": "stream",
     "text": [
      "12345\n"
     ]
    }
   ],
   "source": [
    "n = 5\n",
    "z = ''\n",
    "i = 0\n",
    "while i<n:\n",
    "    i+=1\n",
    "    z +=str(i)\n",
    "print(z)"
   ]
  },
  {
   "cell_type": "code",
   "execution_count": 7,
   "id": "28a98126",
   "metadata": {},
   "outputs": [
    {
     "name": "stdout",
     "output_type": "stream",
     "text": [
      "['cat', 'dog', 'cat', 'cat', 'billi', 'meow', 'murgi', 'chicken']\n",
      "['dog', 'billi', 'meow', 'murgi', 'chicken']\n"
     ]
    }
   ],
   "source": [
    "# Remove Cat!!\n",
    "pets = ['cat','dog','cat','cat','billi','meow','murgi','chicken']\n",
    "print(pets)\n",
    "while 'cat' in pets:\n",
    "    pets.remove('cat')\n",
    "print(pets)"
   ]
  },
  {
   "cell_type": "code",
   "execution_count": 13,
   "id": "67da86e0",
   "metadata": {},
   "outputs": [
    {
     "name": "stdout",
     "output_type": "stream",
     "text": [
      "Enter your name.a\n",
      "Which mountain would you like to climb someday.b\n",
      "Anyone else? ('yes'/'no')x\n",
      "Enter your name.q\n",
      "Which mountain would you like to climb someday.w\n",
      "Anyone else? ('yes'/'no')d\n",
      "Enter your name.s\n",
      "Which mountain would you like to climb someday.d\n",
      "Anyone else? ('yes'/'no')c\n",
      "Enter your name.r\n",
      "Which mountain would you like to climb someday.t\n",
      "Anyone else? ('yes'/'no')no\n",
      "\n",
      "---Poll Responses---\n",
      "A, wish is to climb B someday.\n",
      "Q, wish is to climb W someday.\n",
      "S, wish is to climb D someday.\n",
      "R, wish is to climb T someday.\n"
     ]
    }
   ],
   "source": [
    "player_responses = {}\n",
    "response = True\n",
    "while response:\n",
    "    name = input(\"Enter your name.\")\n",
    "    wish = input('Which mountain would you like to climb someday.')\n",
    "    player_responses[name.title()] = wish.title()\n",
    "    repeat = input(\"Anyone else? ('yes'/'no')\")\n",
    "    if repeat.lower() == 'no':\n",
    "        response = False\n",
    "print('\\n---Poll Responses---')\n",
    "for x,y in player_responses.items():\n",
    "    print(f\"{x}, wish is to climb {y} someday.\")\n",
    "    "
   ]
  },
  {
   "cell_type": "code",
   "execution_count": null,
   "id": "13db779f",
   "metadata": {},
   "outputs": [],
   "source": [
    "7-8. Deli: Make a list called sandwich_orders and fill it with the names of various sandwiches. \n",
    "     Then make an empty list called finished_sandwiches. Loop\n",
    "     through the list of sandwich orders and print a message for each order, such\n",
    "     as I made your tuna sandwich. As each sandwich is made, move it to the list\n",
    "     of finished sandwiches. After all the sandwiches have been made, print a\n",
    "     message listing each sandwich that was made.\n",
    "7-9. No Pastrami: Using the list sandwich_orders from Exercise 7-8, make sure\n",
    "     the sandwich 'pastrami' appears in the list at least three times. Add code\n",
    "     near the beginning of your program to print a message saying the deli has\n",
    "     out of pastrami, and then use a while loop to remove all occurrences of\n",
    "     'pastrami' from sandwich_orders. Make sure no pastrami sandwiches end up\n",
    "      in finished_sandwiches.\n",
    "7-10. Dream Vacation: Write a program that polls users about their dream vacation. \n",
    "      Write a prompt similar to If you could visit one place in the world, where\n",
    "      would you go? Include a block of code that prints the results of the poll."
   ]
  },
  {
   "cell_type": "code",
   "execution_count": null,
   "id": "48c77138",
   "metadata": {},
   "outputs": [],
   "source": [
    "Dream Vacation: Write a program that polls users about their dream vacation. \n",
    "      Write a prompt similar to If you could visit one place in the world, where\n",
    "      would you go? Include a block of code that prints the results of the poll."
   ]
  },
  {
   "cell_type": "code",
   "execution_count": 90,
   "id": "687eb0dc",
   "metadata": {},
   "outputs": [
    {
     "name": "stdout",
     "output_type": "stream",
     "text": [
      "Enter a place. ('no' to exit)h\n",
      "Enter a place. ('no' to exit)g\n",
      "Enter a place. ('no' to exit)g\n",
      "Enter a place. ('no' to exit)no\n",
      "Places you wanted to visit.\n",
      "H\n",
      "G\n",
      "G\n"
     ]
    }
   ],
   "source": [
    "polling  = []\n",
    "poll = True\n",
    "\n",
    "while poll:\n",
    "    z = input(\"Enter a place. ('no' to exit)\")\n",
    "    if z == 'no':\n",
    "        poll = False\n",
    "    else:\n",
    "        polling.append(z)\n",
    "\n",
    "if polling:\n",
    "    print('Places you wanted to visit.')\n",
    "    for x in polling:\n",
    "        print(f\"{x.title()}\")\n",
    "        "
   ]
  },
  {
   "cell_type": "code",
   "execution_count": 62,
   "id": "4aa05c4f",
   "metadata": {},
   "outputs": [
    {
     "data": {
      "text/plain": [
       "['a', 'b', 'c', 'pastrami', 'pastrami', 'pastrami']"
      ]
     },
     "execution_count": 62,
     "metadata": {},
     "output_type": "execute_result"
    }
   ],
   "source": [
    "requested_sandwich = ['a','b','c','pastrami','pastrami','pastrami']\n",
    "requested_sandwich"
   ]
  },
  {
   "cell_type": "code",
   "execution_count": 67,
   "id": "46a503e3",
   "metadata": {},
   "outputs": [
    {
     "name": "stdout",
     "output_type": "stream",
     "text": [
      "The deli has out of pastrami.\n",
      "-I made a for you.\n",
      "-I made b for you.\n",
      "-I made c for you.\n",
      "\n",
      "--Theses sandwiches are ready--\n",
      "-a\n",
      "-b\n",
      "-c\n"
     ]
    }
   ],
   "source": [
    "requested_sandwich = ['pastrami','a','b','c','pastrami','pastrami','pastrami']\n",
    "ready_sandwich = []\n",
    "\n",
    "print('The deli has out of pastrami.')\n",
    "while 'pastrami' in requested_sandwich:\n",
    "        requested_sandwich.remove('pastrami')\n",
    "        \n",
    "while requested_sandwich:    \n",
    "    z = requested_sandwich.pop(0)\n",
    "    ready_sandwich.append(z)\n",
    "    print(f\"-I made {z} for you.\")\n",
    "    \n",
    "print(\"\\n--Theses sandwiches are ready--\")\n",
    "\n",
    "for x in ready_sandwich:\n",
    "    print(\"-\"+x)\n"
   ]
  }
 ],
 "metadata": {
  "kernelspec": {
   "display_name": "Python 3",
   "language": "python",
   "name": "python3"
  },
  "language_info": {
   "codemirror_mode": {
    "name": "ipython",
    "version": 3
   },
   "file_extension": ".py",
   "mimetype": "text/x-python",
   "name": "python",
   "nbconvert_exporter": "python",
   "pygments_lexer": "ipython3",
   "version": "3.8.8"
  }
 },
 "nbformat": 4,
 "nbformat_minor": 5
}
