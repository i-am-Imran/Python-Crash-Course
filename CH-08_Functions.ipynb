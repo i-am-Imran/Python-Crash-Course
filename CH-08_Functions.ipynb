{
 "cells": [
  {
   "cell_type": "code",
   "execution_count": 4,
   "id": "e0db2ec2",
   "metadata": {},
   "outputs": [
    {
     "name": "stdout",
     "output_type": "stream",
     "text": [
      "Hello!\n"
     ]
    }
   ],
   "source": [
    "def greet_user():\n",
    "    \"\"\"Prints Hello!\"\"\"\n",
    "    print('Hello!')\n",
    "greet_user()"
   ]
  },
  {
   "cell_type": "code",
   "execution_count": 7,
   "id": "12a01041",
   "metadata": {},
   "outputs": [
    {
     "name": "stdout",
     "output_type": "stream",
     "text": [
      "Hello, Imran!\n"
     ]
    }
   ],
   "source": [
    "def great_user(your_name):\n",
    "    \"\"\"Just greet with name\"\"\"\n",
    "    print(f\"Hello, {your_name.title()}!\")\n",
    "great_user('imran')"
   ]
  },
  {
   "cell_type": "code",
   "execution_count": 9,
   "id": "b0bf97df",
   "metadata": {},
   "outputs": [
    {
     "name": "stdout",
     "output_type": "stream",
     "text": [
      "I am learning about Function in python and how to use it.\n"
     ]
    }
   ],
   "source": [
    "def display_message():\n",
    "    \"\"\"What i am learning\"\"\"\n",
    "    print('I am learning about Function in python and how to use it.')\n",
    "    \n",
    "\n",
    "display_message()"
   ]
  },
  {
   "cell_type": "code",
   "execution_count": 12,
   "id": "0ae88990",
   "metadata": {},
   "outputs": [
    {
     "name": "stdout",
     "output_type": "stream",
     "text": [
      "One of my favorite movie is 'Alice The Wonderland'.\n"
     ]
    }
   ],
   "source": [
    "def favourite_movie(name):\n",
    "    \"\"\"Favourite Movie\"\"\"\n",
    "    print(f\"One of my favorite movie is '{name.title()}'.\")\n",
    "favourite_movie('Alice the wonderland')"
   ]
  },
  {
   "cell_type": "code",
   "execution_count": 15,
   "id": "9c3b21be",
   "metadata": {},
   "outputs": [
    {
     "name": "stdout",
     "output_type": "stream",
     "text": [
      "My Bestfreind's name is Man.\n"
     ]
    }
   ],
   "source": [
    "def about_pet(kind,name):\n",
    "    \"\"\"About Pet\"\"\"\n",
    "    print(f\"My {kind.title()}'s name is {name.title()}.\")\n",
    "about_pet('bestfreind','man')"
   ]
  },
  {
   "cell_type": "code",
   "execution_count": 24,
   "id": "632d4026",
   "metadata": {},
   "outputs": [
    {
     "name": "stdout",
     "output_type": "stream",
     "text": [
      "I have Girl of name Perry.\n"
     ]
    }
   ],
   "source": [
    "def describe_pet(kind = 'singer',name = 'katy'):\n",
    "    \"\"\"Another parameter passing method, Name:Value\"\"\"\n",
    "    print(f\"I have a {kind.title()} of name {name.title()}.\")\n",
    "describe_pet(kind='girl',name='perry')"
   ]
  },
  {
   "cell_type": "code",
   "execution_count": 26,
   "id": "f6625d78",
   "metadata": {},
   "outputs": [
    {
     "name": "stdout",
     "output_type": "stream",
     "text": [
      "Imran Mirza\n"
     ]
    }
   ],
   "source": [
    "def get_formatted(f_name,l_name):\n",
    "    \"\"\"Get formatted name\"\"\"\n",
    "    name = f\"{f_name} {l_name}\"\n",
    "    return name\n",
    "print(get_formatted('imran','mirza').title())\n",
    "    "
   ]
  },
  {
   "cell_type": "code",
   "execution_count": 31,
   "id": "7ded50f4",
   "metadata": {},
   "outputs": [
    {
     "name": "stdout",
     "output_type": "stream",
     "text": [
      "\n",
      "Tell me your name.\n",
      "Press 'q' anytime to quit\n",
      "Enter first namei\n",
      "Enter last name.am\n",
      "\n",
      "\n",
      "I am I Am.\n",
      "\n",
      "Tell me your name.\n",
      "Press 'q' anytime to quit\n",
      "Enter first namea\n",
      "Enter last name.s\n",
      "\n",
      "\n",
      "I am A S.\n",
      "\n",
      "Tell me your name.\n",
      "Press 'q' anytime to quit\n",
      "Enter first nameq\n"
     ]
    }
   ],
   "source": [
    "while True:\n",
    "    \"\"\"This is infinite while loop,Function included.\"\"\"\n",
    "    print('\\nTell me your name.')\n",
    "    print(\"Press 'q' anytime to quit\")\n",
    "    f_name = input('Enter first name')\n",
    "    if f_name == 'q':\n",
    "        break\n",
    "    l_name = input('Enter last name.')\n",
    "    if l_name == 'q':\n",
    "        break\n",
    "    name = get_formatted(f_name,l_name)\n",
    "    print('\\n')\n",
    "    print(f\"I am {name.title()}.\")"
   ]
  },
  {
   "cell_type": "code",
   "execution_count": null,
   "id": "08c43f74",
   "metadata": {},
   "outputs": [],
   "source": [
    "8-3. T-Shirt: Write a function called make_shirt() that accepts a size and the\n",
    "text of a message that should be printed on the shirt. The function should print\n",
    "a sentence summarizing the size of the shirt and the message printed on it.\n",
    "Call the function once using positional arguments to make a shirt. Call the\n",
    "function a second time using keyword arguments.\n",
    "8-4. Large Shirts: Modify the make_shirt() function so that shirts are large\n",
    "by default with a message that reads I love Python. Make a large shirt and a\n",
    "medium shirt with the default message, and a shirt of any size with a different\n",
    "message.\n",
    "8-5. Cities: Write a function called describe_city() that accepts the name of\n",
    "a city and its country. The function should print a simple sentence, such as\n",
    "Reykjavik is in Iceland. Give the parameter for the country a default value.\n",
    "Call your function for three different cities, at least one of which is not in the\n",
    "default country"
   ]
  },
  {
   "cell_type": "code",
   "execution_count": 43,
   "id": "27b34bc0",
   "metadata": {},
   "outputs": [
    {
     "name": "stdout",
     "output_type": "stream",
     "text": [
      "A t-shirt of size 'M' with design 'I Love Python' is ready.\n",
      "A t-shirt of size 'L' with design 'I Love Python' is ready.\n",
      "A t-shirt of size '55' with design 'Hey Man!!' is ready.\n"
     ]
    }
   ],
   "source": [
    "def make_shirt(size = 'L',logo='I Love Python'):\n",
    "    print(f\"A t-shirt of size '{size}' with design '{logo.title()}' is ready.\")\n",
    "    \n",
    "make_shirt('M')\n",
    "make_shirt('L')\n",
    "make_shirt(size=55,logo='Hey man!!')"
   ]
  },
  {
   "cell_type": "code",
   "execution_count": 46,
   "id": "5d6cc9b4",
   "metadata": {},
   "outputs": [
    {
     "name": "stdout",
     "output_type": "stream",
     "text": [
      "Imran is in Uae.\n",
      "Joe is in America.\n",
      "Gilbert is in Strang.\n"
     ]
    }
   ],
   "source": [
    "def describe_city(name,country = 'UAE'):\n",
    "    print(f\"{name.title()} is in {country.title()}.\")\n",
    "    \n",
    "describe_city('Imran')\n",
    "describe_city('joe','america')\n",
    "describe_city('Gilbert','strang')"
   ]
  },
  {
   "cell_type": "code",
   "execution_count": null,
   "id": "88fcc57f",
   "metadata": {},
   "outputs": [],
   "source": [
    "8-6. City Names: Write a function called city_country() that takes in the name\n",
    "of a city and its country. The function should return a string formatted like this:\n",
    "\"Santiago, Chile\"\n",
    "Call your function with at least three city-country pairs, and print the\n",
    "values that are returned.\n",
    "8-7. Album: Write a function called make_album() that builds a dictionary\n",
    "describing a music album. The function should take in an artist name and an\n",
    "album title, and it should return a dictionary containing these two pieces of\n",
    "information. Use the function to make three dictionaries representing different\n",
    "albums. Print each return value to show that the dictionaries are storing the\n",
    "album information correctly.\n",
    "Use None to add an optional parameter to make_album() that allows you to\n",
    "store the number of songs on an album. If the calling line includes a value for\n",
    "the number of songs, add that value to the album’s dictionary. Make at least\n",
    "one new function call that includes the number of songs on an album.\n",
    "8-8. User Albums: Start with your program from Exercise 8-7. Write a while\n",
    "loop that allows users to enter an album’s artist and title. Once you have that\n",
    "information, call make_album() with the user’s input and print the dictionary\n",
    "that’s created. Be sure to include a quit value in the while loop"
   ]
  },
  {
   "cell_type": "code",
   "execution_count": 34,
   "id": "b48dfb8c",
   "metadata": {
    "scrolled": true
   },
   "outputs": [
    {
     "name": "stdout",
     "output_type": "stream",
     "text": [
      "\n",
      "Enter Album details.('q' to exit)\n",
      "What is the Artist name.a\n",
      "Title of the album.w\n",
      "No. of songs in the Album.1\n",
      "Details of the artist.\n",
      "{'a': ['w', '1']}\n",
      "\n",
      "Enter Album details.('q' to exit)\n",
      "What is the Artist name.cc\n",
      "Title of the album.dd\n",
      "No. of songs in the Album.22\n",
      "Details of the artist.\n",
      "{'cc': ['dd', '22']}\n",
      "\n",
      "Enter Album details.('q' to exit)\n",
      "What is the Artist name.q\n",
      "Details of the artist.\n",
      "{'q': ['dd', '22']}\n"
     ]
    }
   ],
   "source": [
    "def make_album(artist_name,album_title,number_of_songs = None):\n",
    "    z = {}\n",
    "    if number_of_songs:\n",
    "        z[artist_name] = [album_title,number_of_songs]\n",
    "    else:\n",
    "        z = {artist_name:album_title}\n",
    "    return z\n",
    "\n",
    "\n",
    "troll = True\n",
    "while troll:\n",
    "    print(\"\\nEnter Album details.('q' to exit)\")\n",
    "    \n",
    "    name = input('What is the Artist name.')\n",
    "    if name == 'q':\n",
    "        print('Details of the artist.')\n",
    "        z = make_album(name,album,songs)\n",
    "        print(z)\n",
    "        break\n",
    "              \n",
    "    album = input('Title of the album.')\n",
    "    if album == 'q':\n",
    "        print('Details of the artist.')\n",
    "        z = make_album(name,album,songs)\n",
    "        print(z)\n",
    "        break\n",
    "              \n",
    "    songs = (input('No. of songs in the Album.'))\n",
    "    if songs == '':\n",
    "        continue\n",
    "    if songs == 'q':\n",
    "        break\n",
    "              \n",
    "    print('Details of the artist.')\n",
    "    z = make_album(name,album,songs)\n",
    "    print(z)"
   ]
  },
  {
   "cell_type": "code",
   "execution_count": 2,
   "id": "2e7fa56f",
   "metadata": {},
   "outputs": [
    {
     "name": "stdout",
     "output_type": "stream",
     "text": [
      "\"Imran, India\"\n"
     ]
    }
   ],
   "source": [
    "def city_country(name,country):\n",
    "    print(f'\"{name.title()}, {country.title()}\"')\n",
    "    \n",
    "city_country('ImraN','inDiA')"
   ]
  },
  {
   "cell_type": "code",
   "execution_count": 35,
   "id": "c49984d2",
   "metadata": {},
   "outputs": [
    {
     "name": "stdout",
     "output_type": "stream",
     "text": [
      "\"Hello, Imran!\"\n",
      "\"Hello, Sam!\"\n",
      "\"Hello, John!\"\n"
     ]
    }
   ],
   "source": [
    "#Passing a list to function\n",
    "\n",
    "def greet_user(names):\n",
    "    for name in names:\n",
    "        print(f'\"Hello, {name.title()}!\"')\n",
    "        \n",
    "greet_user(['imran','sam','john'])"
   ]
  },
  {
   "cell_type": "code",
   "execution_count": 41,
   "id": "2477df1f",
   "metadata": {},
   "outputs": [
    {
     "name": "stdout",
     "output_type": "stream",
     "text": [
      "Printing model:Movie\n",
      "Printing model:Avenger\n",
      "Printing model:Games\n",
      "Printing model:Alice\n",
      "\n",
      "Following desings have been printed:\n",
      "-Movie\n",
      "-Avenger\n",
      "-Games\n",
      "-Alice\n"
     ]
    }
   ],
   "source": [
    "#Modifying a list in a function!\n",
    "\n",
    "def designing(designs):\n",
    "    ready_designs = []\n",
    "    while designs:\n",
    "        z = designs.pop()\n",
    "        print(f'Printing model:{z.title()}')\n",
    "        ready_designs.append(z)\n",
    "    print('\\nFollowing desings have been printed:')\n",
    "    for x in ready_designs:\n",
    "        print(\"-\"+x.title())\n",
    "        \n",
    "designing(['alice','games','avenger','movie'])"
   ]
  },
  {
   "cell_type": "code",
   "execution_count": 44,
   "id": "833f9f18",
   "metadata": {},
   "outputs": [
    {
     "name": "stdout",
     "output_type": "stream",
     "text": [
      "printing model:theaters\n",
      "printing model:earth\n",
      "printing model:moon\n",
      "printing model:stars\n",
      "printing model:movie\n",
      "\n",
      "--All completed models are--\n",
      "-Theaters\n",
      "-Earth\n",
      "-Moon\n",
      "-Stars\n",
      "-Movie\n"
     ]
    }
   ],
   "source": [
    "def print_model(uncomplete_model,complete_model):\n",
    "    while uncomplete_model:\n",
    "        model = uncomplete_model.pop()\n",
    "        print(f\"printing model:{model}\")\n",
    "        complete_model.append(model)\n",
    "    \n",
    "def show_completed_models(completed_models):\n",
    "    print('\\n--All completed models are--')\n",
    "    for x in completed_models:\n",
    "        print(\"-\"+x.title())\n",
    "        \n",
    "uncomplete_model = ['movie','stars','moon','earth','theaters']\n",
    "printed_model = []\n",
    "\n",
    "print_model(uncomplete_model,printed_model)\n",
    "show_completed_models(printed_model)\n",
    "    "
   ]
  },
  {
   "cell_type": "code",
   "execution_count": null,
   "id": "4f329ef6",
   "metadata": {},
   "outputs": [],
   "source": [
    "8-9. Messages: Make a list containing a series of short text messages. Pass the\n",
    "list to a function called show_messages(), which prints each text message.\n",
    "\n",
    "8-10. Sending Messages: Start with a copy of your program from Exercise 8-9.\n",
    "Write a function called send_messages() that prints each text message and\n",
    "moves each message to a new list called sent_messages as it’s printed. After\n",
    "calling the function, print both of your lists to make sure the messages were\n",
    "moved correctly.\n",
    "\n",
    "8-11. Archived Messages: Start with your work from Exercise 8-10. Call the\n",
    "function send_messages() with a copy of the list of messages. After calling the\n",
    "function, print both of your lists to show that the original list has retained its\n",
    "messages."
   ]
  },
  {
   "cell_type": "code",
   "execution_count": 47,
   "id": "dba44f1c",
   "metadata": {},
   "outputs": [
    {
     "name": "stdout",
     "output_type": "stream",
     "text": [
      "\n",
      "--All messages--\n",
      "Here we are.\n",
      "Now the time has come\n",
      "We will do whatever needed to be done.\n"
     ]
    }
   ],
   "source": [
    "sms = ['Here we are.','Now the time has come','We will do whatever needed to be done.']\n",
    "\n",
    "def print_sms(sms):\n",
    "    print('\\n--All messages--')\n",
    "    for x in sms:\n",
    "        print(x)\n",
    "        \n",
    "print_sms(sms)"
   ]
  },
  {
   "cell_type": "code",
   "execution_count": 66,
   "id": "aa5bb937",
   "metadata": {},
   "outputs": [
    {
     "name": "stdout",
     "output_type": "stream",
     "text": [
      "--These messages have been sent--\n",
      "\n",
      "-We will do whatever needed to be done.\n",
      "-Now the time has come\n",
      "-Here we are.\n"
     ]
    }
   ],
   "source": [
    "def send_messages(sms,sent_message):\n",
    "    print('--These messages have been sent--\\n')\n",
    "    while sms:      \n",
    "        message = sms.pop()\n",
    "        print(\"-\"+message)\n",
    "        sent_message.append(message)\n",
    "        \n",
    "sent_message = []\n",
    "sms = ['Here we are.',\n",
    " 'Now the time has come',\n",
    " 'We will do whatever needed to be done.']\n",
    "\n",
    "send_messages(sms[:],sent_message)"
   ]
  },
  {
   "cell_type": "code",
   "execution_count": 62,
   "id": "96021e9a",
   "metadata": {},
   "outputs": [
    {
     "name": "stdout",
     "output_type": "stream",
     "text": [
      "['Here we are.', 'Now the time has come', 'We will do whatever needed to be done.'] ['We will do whatever needed to be done.', 'Now the time has come', 'Here we are.']\n"
     ]
    }
   ],
   "source": [
    "print(sms,sent_message)"
   ]
  },
  {
   "cell_type": "code",
   "execution_count": null,
   "id": "dbe3fef0",
   "metadata": {},
   "outputs": [],
   "source": [
    "8-11. Archived Messages: Start with your work from Exercise 8-10. Call the\n",
    "function send_messages() with a copy of the list of messages. After calling the\n",
    "function, print both of your lists to show that the original list has retained its\n",
    "messages."
   ]
  },
  {
   "cell_type": "code",
   "execution_count": 63,
   "id": "2ecafd5c",
   "metadata": {},
   "outputs": [
    {
     "name": "stdout",
     "output_type": "stream",
     "text": [
      "These messages have been sent.\n",
      "We will do whatever needed to be done.\n",
      "These messages have been sent.\n",
      "Now the time has come\n",
      "These messages have been sent.\n",
      "Here we are.\n"
     ]
    }
   ],
   "source": [
    "sent_message = []\n",
    "sms = ['Here we are.',\n",
    " 'Now the time has come',\n",
    " 'We will do whatever needed to be done.']\n",
    "\n",
    "send_messages(sms[:],sent_message)"
   ]
  },
  {
   "cell_type": "code",
   "execution_count": 71,
   "id": "d18ca91d",
   "metadata": {},
   "outputs": [
    {
     "name": "stdout",
     "output_type": "stream",
     "text": [
      "These are requested toppings:\n",
      "-jeera\n",
      "-goliki\n",
      "-namak\n",
      "These are requested toppings:\n",
      "-hello\n"
     ]
    }
   ],
   "source": [
    "#Arbitrary number of arguments\n",
    "\n",
    "def make_pizza(*toppings):\n",
    "    print('These are requested toppings:')\n",
    "    for x in toppings:\n",
    "        print('-'+x)\n",
    "\n",
    "make_pizza('jeera','goliki','namak')\n",
    "make_pizza('hello')"
   ]
  },
  {
   "cell_type": "code",
   "execution_count": 74,
   "id": "897bd0f2",
   "metadata": {},
   "outputs": [
    {
     "name": "stdout",
     "output_type": "stream",
     "text": [
      "Pizza of size-11 is ready with following toppings:\n",
      "-Hello\n",
      "-Blue\n",
      "-Guru\n"
     ]
    }
   ],
   "source": [
    "#positional plus arbitrary arguments\n",
    "\n",
    "def pizza_maker(size,*toppings):\n",
    "    print(f'Pizza of size-{size} is ready with following toppings:')\n",
    "    for x in toppings:\n",
    "        print(\"-\"+x.title())\n",
    "        \n",
    "pizza_maker(11,'hello','blue','guru')"
   ]
  },
  {
   "cell_type": "code",
   "execution_count": null,
   "id": "62c37a0e",
   "metadata": {},
   "outputs": [],
   "source": [
    "8-12. Sandwiches: Write a function that accepts a list of items a person wants\n",
    "on a sandwich. The function should have one parameter that collects as many\n",
    "items as the function call provides, and it should print a summary of the sandwich that’s being \n",
    "ordered. Call the function three times, using a different number of arguments each time.\n",
    "\n",
    "8-13. User Profile: Start with a copy of user_profile.py from page 149. Build a\n",
    "profile of yourself by calling build_profile(), using your first and last names\n",
    "and three other key-value pairs that describe you.\n",
    "\n",
    "8-14.Cars: Write a function that stores information about a car in a dictionary. The function \n",
    "    should always receive a manufacturer and a model name. \n",
    "    It should then accept an arbitrary number of keyword arguments. \n",
    "    Call the function with the required information and two other name-value pairs, \n",
    "    such as a color or an optional feature. Your function should work for a call like this one:\n",
    "    car = make_car('subaru', 'outback', color='blue', tow_package=True)\n",
    "    Print the dictionary that’s returned to make sure all the information was\n",
    "    stored correctly."
   ]
  },
  {
   "cell_type": "code",
   "execution_count": 87,
   "id": "0c53cfc7",
   "metadata": {},
   "outputs": [
    {
     "data": {
      "text/plain": [
       "{'color': 'Red', 'size': 'sedan', 'suzuki': 'A10'}"
      ]
     },
     "execution_count": 87,
     "metadata": {},
     "output_type": "execute_result"
    }
   ],
   "source": [
    "def car_details(manufacturer,model_name,**details):\n",
    "    details[manufacturer] = model_name\n",
    "    return details\n",
    "car_details('suzuki','A10',color='Red',size='sedan')"
   ]
  },
  {
   "cell_type": "code",
   "execution_count": 77,
   "id": "79c23219",
   "metadata": {},
   "outputs": [
    {
     "name": "stdout",
     "output_type": "stream",
     "text": [
      "These are the ordered sanwiches.\n",
      "-Hello\n",
      "-Aloo\n",
      "These are the ordered sanwiches.\n",
      "-Simple\n",
      "-Colour\n",
      "-Spicy\n",
      "These are the ordered sanwiches.\n",
      "-\n"
     ]
    }
   ],
   "source": [
    "def sandwiches(*args):\n",
    "    print('These are the ordered sanwiches.')\n",
    "    for x in args:\n",
    "        print('-'+x.title())\n",
    "        \n",
    "sandwiches('hello','aloo')\n",
    "sandwiches('simple','colour','spicy')\n",
    "sandwiches('')"
   ]
  },
  {
   "cell_type": "code",
   "execution_count": 85,
   "id": "a27c704e",
   "metadata": {},
   "outputs": [
    {
     "name": "stdout",
     "output_type": "stream",
     "text": [
      "{'location': 'gaya', 'field': 'computer'}\n"
     ]
    }
   ],
   "source": [
    "def user_profile(first,last,**profile):\n",
    "    return profile\n",
    "    profile['first_name']= first\n",
    "    profile['last_name'] = last\n",
    "    return profile\n",
    "\n",
    "x = user_profile('imran','mirza',location = 'gaya',field = 'computer')\n",
    "print(x)    "
   ]
  },
  {
   "cell_type": "code",
   "execution_count": 19,
   "id": "05b43d99",
   "metadata": {},
   "outputs": [],
   "source": [
    "from car import Car"
   ]
  },
  {
   "cell_type": "code",
   "execution_count": 20,
   "id": "7b09d1b0",
   "metadata": {},
   "outputs": [],
   "source": [
    "my_car = Car('honda','city 18',2021)"
   ]
  },
  {
   "cell_type": "code",
   "execution_count": 21,
   "id": "6c7803ed",
   "metadata": {},
   "outputs": [
    {
     "name": "stdout",
     "output_type": "stream",
     "text": [
      "Honda City 18 2021\n"
     ]
    }
   ],
   "source": [
    "my_car.decribe_car()"
   ]
  },
  {
   "cell_type": "code",
   "execution_count": 22,
   "id": "abfbc5ef",
   "metadata": {},
   "outputs": [
    {
     "name": "stdout",
     "output_type": "stream",
     "text": [
      "\n",
      "This car has 0 miles on it.\n"
     ]
    }
   ],
   "source": [
    "my_car.show_odometer()"
   ]
  },
  {
   "cell_type": "code",
   "execution_count": 23,
   "id": "9b3a79b0",
   "metadata": {},
   "outputs": [],
   "source": [
    "my_car.update_odometer(100)"
   ]
  },
  {
   "cell_type": "code",
   "execution_count": 26,
   "id": "8f57beb3",
   "metadata": {},
   "outputs": [],
   "source": [
    "x = my_car.odometer = 80"
   ]
  },
  {
   "cell_type": "code",
   "execution_count": 28,
   "id": "c3bbe011",
   "metadata": {},
   "outputs": [],
   "source": [
    "x = 50"
   ]
  },
  {
   "cell_type": "code",
   "execution_count": 29,
   "id": "70ec0dd0",
   "metadata": {},
   "outputs": [
    {
     "data": {
      "text/plain": [
       "80"
      ]
     },
     "execution_count": 29,
     "metadata": {},
     "output_type": "execute_result"
    }
   ],
   "source": [
    "my_car.odometer"
   ]
  },
  {
   "cell_type": "code",
   "execution_count": 30,
   "id": "04e10c96",
   "metadata": {},
   "outputs": [],
   "source": [
    "my_car.increment_odometer(23)"
   ]
  },
  {
   "cell_type": "code",
   "execution_count": 32,
   "id": "c3a10c67",
   "metadata": {},
   "outputs": [
    {
     "name": "stdout",
     "output_type": "stream",
     "text": [
      "\n",
      "This car has 103 miles on it.\n"
     ]
    }
   ],
   "source": [
    "my_car.show_odometer()"
   ]
  },
  {
   "cell_type": "code",
   "execution_count": 35,
   "id": "2d6a7dc4",
   "metadata": {},
   "outputs": [],
   "source": [
    "??open"
   ]
  },
  {
   "cell_type": "code",
   "execution_count": null,
   "id": "5e5619bf",
   "metadata": {},
   "outputs": [],
   "source": []
  }
 ],
 "metadata": {
  "kernelspec": {
   "display_name": "Python 3",
   "language": "python",
   "name": "python3"
  },
  "language_info": {
   "codemirror_mode": {
    "name": "ipython",
    "version": 3
   },
   "file_extension": ".py",
   "mimetype": "text/x-python",
   "name": "python",
   "nbconvert_exporter": "python",
   "pygments_lexer": "ipython3",
   "version": "3.8.8"
  }
 },
 "nbformat": 4,
 "nbformat_minor": 5
}
