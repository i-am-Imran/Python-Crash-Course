{
 "cells": [
  {
   "cell_type": "code",
   "execution_count": 29,
   "id": "f211605a",
   "metadata": {},
   "outputs": [],
   "source": [
    "class Dog:\n",
    "    \"\"\"A Simple approch in learning class\"\"\"\n",
    "    \n",
    "    def __init__(self,name,age):\n",
    "        \"\"\"Initialize name and age attributes\"\"\"\n",
    "        self.name = name\n",
    "        self.age = age\n",
    "        \n",
    "    def roll_over(self):\n",
    "        \"\"\"Simualte a dog rolling in response to the command\"\"\"\n",
    "        print(f'{self.name.title()} is rolled out!')\n",
    "        \n",
    "    def sit(self):\n",
    "        \"\"\"Simulate a dog sitting in response to the command \"\"\"\n",
    "        print(f'{self.name.title()} is sitting.')\n",
    "        \n",
    "my_dog = Dog('goku',16)"
   ]
  },
  {
   "cell_type": "code",
   "execution_count": 9,
   "id": "839880dc",
   "metadata": {},
   "outputs": [],
   "source": [
    "#9-1\n",
    "\n",
    "class Restaurant:\n",
    "    def __init__(self,name,cusine_type):\n",
    "        self.name = name\n",
    "        self.cusine_type = cusine_type\n",
    "        \n",
    "    def describe_restaurant(self):\n",
    "        print(f\"The Restaurant name is {self.name.title()}.\")\n",
    "        print(f\"A {self.cusine_type.title()}-type of restaurant.\")\n",
    "        \n",
    "    def open_restaurant(self):\n",
    "        print(f\"the restaurant, {self.name.title()} is open now.\")"
   ]
  },
  {
   "cell_type": "code",
   "execution_count": 20,
   "id": "257076ca",
   "metadata": {},
   "outputs": [],
   "source": [
    "class User:\n",
    "    def __init__(self,f_name,l_name,age,country):\n",
    "        self.f_name = f_name\n",
    "        self.l_name = l_name\n",
    "        self.age = age\n",
    "        self.country = country\n",
    "        \n",
    "    def describe_user(self):\n",
    "        print(f\"Name: {self.f_name.title()} {self.l_name.title()}.\")\n",
    "        print(f\"Age: {self.age}. \")\n",
    "        print(f\"From: {self.country.title()}.\")\n",
    "        \n",
    "    def greet_user(self):\n",
    "        print(f'Welcome {self.f_name.title()} {self.l_name.title()}.')\n",
    "        \n",
    "        "
   ]
  },
  {
   "cell_type": "code",
   "execution_count": 1,
   "id": "b109edbd",
   "metadata": {},
   "outputs": [],
   "source": [
    "class Car:\n",
    "    \"\"\"Modelling a car\"\"\"\n",
    "    \n",
    "    def __init__(self,make,model,year):\n",
    "        \"\"\"Assigning attributes to describe a car\"\"\"\n",
    "        self.make = make\n",
    "        self.model = model\n",
    "        self.year = year\n",
    "        self.odometer_reading = 0\n",
    "        \n",
    "    def description(self):\n",
    "        print(f\"{self.make.title()} {self.model.title()} {self.year}\")\n",
    "        \n",
    "    def update_odometer(self,mileage):\n",
    "        \"\"\"This statement is to modify, mileage but you cant roll it back\"\"\"\n",
    "        if mileage >= self.odometer_reading:\n",
    "            self.odometer_reading = mileage\n",
    "        else:\n",
    "            print(\"You can't roll back the odometer.\")\n",
    "            \n",
    "    def increment_odometer(self,miles):\n",
    "        self.odometer_reading += miles\n",
    "        \n",
    "        \n",
    "    def read_odometer(self):\n",
    "        \"\"\"Print statement showing the car mileage\"\"\"\n",
    "        print(f\"This car has {self.odometer_reading} miles on it.\")\n"
   ]
  },
  {
   "cell_type": "code",
   "execution_count": 1,
   "id": "0bfcec1c",
   "metadata": {},
   "outputs": [],
   "source": [
    "class Restaurant:\n",
    "    def __init__(self,name,cusine_type):\n",
    "        \"\"\"Creating a restaurant class\"\"\"\n",
    "        self.name = name\n",
    "        self.cusine_type = cusine_type\n",
    "        self.number_served = 0\n",
    "        \n",
    "    def describe_restaurant(self):\n",
    "        \"\"\"this method is for displaying name and type only\"\"\"\n",
    "        print(f\"The Restaurant name is {self.name.title()}.\")\n",
    "        print(f\"A {self.cusine_type.title()}-type of restaurant.\")\n",
    "        \n",
    "    def open_restaurant(self):\n",
    "        \"\"\"Another method of the restaurant class for availibility check\"\"\"\n",
    "        print(f\"the restaurant, {self.name.title()} is open now.\")\n",
    "        \n",
    "    def customer_served(self):\n",
    "        \"\"\"How many customer we have served\"\"\"\n",
    "        print(f'This restaurant has served over-{self.number_served} customers.')\n",
    "        \n",
    "    def set_number_served(self,number):\n",
    "        \"\"\"change value of customer we have served\"\"\"\n",
    "        self.number_served = number\n",
    "        \n",
    "    def increment_number_served(self,number):\n",
    "        '''increment value od customer served'''\n",
    "        self.number_served += number\n",
    "    \n",
    "    "
   ]
  },
  {
   "cell_type": "code",
   "execution_count": 63,
   "id": "fb7ad26d",
   "metadata": {},
   "outputs": [],
   "source": [
    "class User:\n",
    "    def __init__(self,f_name,l_name,age,country):\n",
    "        self.f_name = f_name\n",
    "        self.l_name = l_name\n",
    "        self.age = age\n",
    "        self.country = country\n",
    "        self.login_attempt = 0\n",
    "        \n",
    "    def describe_user(self):\n",
    "        print(f\"Name: {self.f_name.title()} {self.l_name.title()}.\")\n",
    "        print(f\"Age: {self.age}. \")\n",
    "        print(f\"From: {self.country.title()}.\")\n",
    "        \n",
    "    def greet_user(self):\n",
    "        print(f'Welcome {self.f_name.title()} {self.l_name.title()}.')\n",
    "        \n",
    "    def display_login_attempt(self):\n",
    "        print(f\"Total login: {self.login_attempt}\")\n",
    "        \n",
    "    def increment_login_attempt(self):\n",
    "        self.login_attempt +=1\n",
    "        \n",
    "    def reset_login_attempt(self):\n",
    "        self.login_attempt = 0"
   ]
  },
  {
   "cell_type": "code",
   "execution_count": 50,
   "id": "ce5e80b0",
   "metadata": {},
   "outputs": [],
   "source": [
    "class Car:\n",
    "    def __init__(self,name,model,year):\n",
    "        '''Trying to create an instance of a Car'''\n",
    "        self.name = name\n",
    "        self.model = model\n",
    "        self.year = year\n",
    "        self.odometer = 0\n",
    "        \n",
    "    def details_of_car(self):\n",
    "        '''Getting the details of the Car'''\n",
    "        print(f\"{self.name.title()}  {self.model}  {self.year}\")\n",
    "        \n",
    "    def view_odometer(self):\n",
    "        '''showing the odometer '''\n",
    "        print(f'This car has {self.odometer} miles on its odometer.')\n",
    "        \n",
    "    def set_odometer(self,miles=1):\n",
    "        '''giving odometer a new new value'''\n",
    "        if miles >= 0:\n",
    "            self.odometer = miles\n",
    "        else:\n",
    "            print('Cant decrease the odometer.')\n",
    "            \n",
    "    def increment_odometer(self,miles=1):\n",
    "        '''Add some miles to existing odometer'''\n",
    "        if miles >= 0:\n",
    "            self.odometer += miles\n",
    "        else:\n",
    "            print('Cant decrease the odometer.')\n",
    "            \n",
    "    def reset_odometer(self,miles = 0):\n",
    "        self.odometer = miles\n",
    "        print(f\"Resetting the miles to-{miles} miles.\")\n",
    "        \n",
    "    def fill_gas_tank(self):\n",
    "        print('Filling the gas tank')\n",
    "    "
   ]
  },
  {
   "cell_type": "code",
   "execution_count": 69,
   "id": "ef00b20b",
   "metadata": {},
   "outputs": [],
   "source": [
    "class ElectricCar(Car):\n",
    "    '''Inheriting from car to make electric car'''\n",
    "    \n",
    "    def __init__(self,name,model,year):\n",
    "        '''inheriting attributes'''\n",
    "        super().__init__(name,model,year)\n",
    "        self.battery = Battery()\n",
    "    \n",
    "    def fill_gas_tank(self):\n",
    "        print(\"This car does'nt have a gas tank.\")\n",
    "        \n",
    "class Battery:\n",
    "    '''A simple attempt to model electric car battery'''\n",
    "    def __init__(self,battery_size = 65):\n",
    "        self.battery_size = battery_size\n",
    "        \n",
    "    def my_battery(self):\n",
    "        '''A statement to see battery size'''\n",
    "        print(f\"The battery of this car is of {self.battery_size}-KwH.\")\n",
    "        \n",
    "    def get_range(self):\n",
    "        \"\"\"Print a statement about the range this battery provides.\"\"\"\n",
    "        range = 'N/A'\n",
    "        if self.battery_size == 65:\n",
    "            range = 260\n",
    "        elif self.battery_size == 100:\n",
    "            range = 315\n",
    "        print(f\"This car provide {range}-Kms on full charge.\")\n",
    "        \n",
    "    def upgrade_battery(self):\n",
    "        if self.battery_size < 100:\n",
    "            self.battery_size = 100\n",
    "            print('Battery Upgraded, Now enjoy even longer Range.')"
   ]
  },
  {
   "cell_type": "code",
   "execution_count": 16,
   "id": "cbd5ccff",
   "metadata": {},
   "outputs": [],
   "source": [
    "class IceCreamStand(Restaurant):\n",
    "    '''Inherited from Restaurant class, A ice-cream stand class'''\n",
    "    def __init__(self,name,cusine_type):\n",
    "        super().__init__(name,cusine_type)\n",
    "        self.flavours = ['Butter-Scotch','Green-Apple','Cherry-Blue']\n",
    "        \n",
    "    def show_flavours(self):\n",
    "        print('\\nList of available flavours:')\n",
    "        if self.flavours:\n",
    "            for x in self.flavours:\n",
    "                print('-'+x.title())\n",
    "        "
   ]
  },
  {
   "cell_type": "code",
   "execution_count": 48,
   "id": "f5e9229e",
   "metadata": {},
   "outputs": [
    {
     "name": "stdout",
     "output_type": "stream",
     "text": [
      "\n",
      "Following are privileges only for admin:\n",
      "-can add post\n",
      "-can delete post\n",
      "-can ban user\n",
      "-can update feed\n"
     ]
    }
   ],
   "source": [
    "class Admin(User):\n",
    "    '''Inherited from User class, A class for admin'''\n",
    "    def __init__(self,f_name,l_name,age,country):\n",
    "        super().__init__(f_name,l_name,age,country)\n",
    "        self.my_privileges = Admin_Privileges()\n",
    "        \n",
    "admin = Admin('imran','mirza','22','india')\n",
    "admin.my_privileges.show_privileges()"
   ]
  },
  {
   "cell_type": "code",
   "execution_count": 39,
   "id": "1d65340d",
   "metadata": {},
   "outputs": [],
   "source": [
    "class Admin_Privileges:\n",
    "    '''Separate privilege class for admin'''\n",
    "    def __init__(self):\n",
    "        '''A admin have these privileges'''\n",
    "        self.privileges = ['can add post','can delete post','can ban user','can update feed']\n",
    "        \n",
    "    def show_privileges(self):\n",
    "        print('\\nFollowing are privileges only for admin:')\n",
    "        for x in self.privileges:\n",
    "            print('-'+x)"
   ]
  },
  {
   "cell_type": "code",
   "execution_count": 29,
   "id": "151425ea",
   "metadata": {},
   "outputs": [
    {
     "data": {
      "text/plain": [
       "4"
      ]
     },
     "execution_count": 29,
     "metadata": {},
     "output_type": "execute_result"
    }
   ],
   "source": [
    "from random import randint\n",
    "randint(1,6)"
   ]
  },
  {
   "cell_type": "code",
   "execution_count": 33,
   "id": "e6c4628e",
   "metadata": {},
   "outputs": [
    {
     "data": {
      "text/plain": [
       "'s'"
      ]
     },
     "execution_count": 33,
     "metadata": {},
     "output_type": "execute_result"
    }
   ],
   "source": [
    "from random import choice\n",
    "x = ['s','a','b']\n",
    "choice(x)"
   ]
  },
  {
   "cell_type": "code",
   "execution_count": 47,
   "id": "173c7311",
   "metadata": {},
   "outputs": [
    {
     "name": "stdout",
     "output_type": "stream",
     "text": [
      "8\n",
      "20\n",
      "13\n",
      "5\n",
      "16\n",
      "4\n",
      "9\n",
      "10\n",
      "12\n",
      "3\n"
     ]
    }
   ],
   "source": [
    "class Die:\n",
    "    '''A simple attempt to model a dice'''\n",
    "    def __init__(self,sides = 6):\n",
    "        self.sides = sides\n",
    "        \n",
    "    def roll_die(self):\n",
    "        from random import randint\n",
    "        x = randint(1,self.sides)\n",
    "        print(x)\n",
    "        \n",
    "        \n",
    "my_game = Die(20)\n",
    "for x in range(10):\n",
    "    my_game.roll_die()"
   ]
  },
  {
   "cell_type": "code",
   "execution_count": 77,
   "id": "3ebd488d",
   "metadata": {},
   "outputs": [
    {
     "name": "stdout",
     "output_type": "stream",
     "text": [
      "Any ticket matching these four numbers or letters wins a prize: \n",
      "-10\n",
      "-2\n",
      "-2\n",
      "-computer\n"
     ]
    }
   ],
   "source": [
    "my_ticket = []\n",
    "x = (1,2,3,4,5,3,4,5,9,10,'hello','imran','mirza','computer','science','hero','green')\n",
    "print(\"Any ticket matching these four numbers or letters wins a prize: \")\n",
    "for num in range(4):\n",
    "    print(f\"{'-'}{choice(x)}\")\n",
    "    my_ticket.append(choice(x))"
   ]
  },
  {
   "cell_type": "code",
   "execution_count": 78,
   "id": "3f6c3afc",
   "metadata": {},
   "outputs": [
    {
     "name": "stdout",
     "output_type": "stream",
     "text": [
      "3 times running loop may give lottery-1.\n",
      "47 times running loop may give lottery-mirza.\n",
      "48 times running loop may give lottery-computer.\n"
     ]
    }
   ],
   "source": [
    "count = 1\n",
    "for a in x:\n",
    "    for lottery in my_ticket:\n",
    "        if lottery == a:\n",
    "            print(f'{count} times running loop may give lottery-{lottery}.')\n",
    "            break\n",
    "        else:\n",
    "            count+=1"
   ]
  },
  {
   "cell_type": "code",
   "execution_count": 44,
   "id": "04b589eb",
   "metadata": {},
   "outputs": [
    {
     "ename": "SyntaxError",
     "evalue": "invalid syntax (<ipython-input-44-e6a1d6793e9c>, line 2)",
     "output_type": "error",
     "traceback": [
      "\u001b[1;36m  File \u001b[1;32m\"<ipython-input-44-e6a1d6793e9c>\"\u001b[1;36m, line \u001b[1;32m2\u001b[0m\n\u001b[1;33m    9-13. Dice: Make a class Die with one attribute called sides, which has a default\u001b[0m\n\u001b[1;37m          ^\u001b[0m\n\u001b[1;31mSyntaxError\u001b[0m\u001b[1;31m:\u001b[0m invalid syntax\n"
     ]
    }
   ],
   "source": [
    "\"\"\"\"\"\"\n",
    "9-13. Dice: Make a class Die with one attribute called sides, which has a default\n",
    "value of 6. Write a method called roll_die() that prints a random number\n",
    "between 1 and the number of sides the die has. Make a 6-sided die and roll it\n",
    "10 times.\n",
    "Make a 10-sided die and a 20-sided die. Roll each die 10 times.\n",
    "\n",
    "9-14. Lottery: Make a list or tuple containing a series of 10 numbers and\n",
    "five letters. Randomly select four numbers or letters from the list and print a\n",
    "message saying that any ticket matching these four numbers or letters wins a\n",
    "prize.\n",
    "\n",
    "9-15. Lottery Analysis: You can use a loop to see how hard it might be to win\n",
    "the kind of lottery you just modeled. Make a list or tuple called my_ticket.\n",
    "Write a loop that keeps pulling numbers until your ticket wins. Print a message\n",
    "reporting how many times the loop had to run to give you a winning ticket.\n",
    "\n",
    "9-16. Python Module of the Week: One excellent resource for exploring the\n",
    "Python standard library is a site called Python Module of the Week. Go to\n",
    "https://pymotw.com/ and look at the table of contents. Find a module that\n",
    "looks interesting to you and read about it, perhaps starting with the random\n",
    "module.\n",
    "\"\"\"\"\"\""
   ]
  },
  {
   "cell_type": "code",
   "execution_count": null,
   "id": "4ac820e8",
   "metadata": {},
   "outputs": [],
   "source": []
  }
 ],
 "metadata": {
  "kernelspec": {
   "display_name": "Python 3",
   "language": "python",
   "name": "python3"
  },
  "language_info": {
   "codemirror_mode": {
    "name": "ipython",
    "version": 3
   },
   "file_extension": ".py",
   "mimetype": "text/x-python",
   "name": "python",
   "nbconvert_exporter": "python",
   "pygments_lexer": "ipython3",
   "version": "3.8.8"
  }
 },
 "nbformat": 4,
 "nbformat_minor": 5
}
