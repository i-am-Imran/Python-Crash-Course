{
 "cells": [
  {
   "cell_type": "code",
   "execution_count": 6,
   "id": "4bca024c",
   "metadata": {},
   "outputs": [],
   "source": [
    "from name import *"
   ]
  },
  {
   "cell_type": "code",
   "execution_count": 7,
   "id": "d02c4c43",
   "metadata": {},
   "outputs": [
    {
     "name": "stdout",
     "output_type": "stream",
     "text": [
      "Enter 'q' anytime to exit: \n",
      "\n",
      "Please give me a first name: hello\n",
      "Please give me a last name: man\n",
      "\tNeatly formatted name: Hello Man\n",
      "\n",
      "Please give me a first name: imran\n",
      "Please give me a last name: mirza\n",
      "\tNeatly formatted name: Imran Mirza\n",
      "\n",
      "Please give me a first name: q\n"
     ]
    }
   ],
   "source": [
    "print(\"Enter 'q' anytime to exit: \")\n",
    "while True:\n",
    "    first = input(\"\\nPlease give me a first name: \")\n",
    "    if first == 'q':\n",
    "        break\n",
    "    last = input(\"Please give me a last name: \")\n",
    "    if last == 'q':\n",
    "        break\n",
    "    \n",
    "    formated_name = get_formatted_name(first,last)\n",
    "    print(f\"\\tNeatly formatted name: {formated_name}\")"
   ]
  },
  {
   "cell_type": "code",
   "execution_count": 5,
   "id": "380a2688",
   "metadata": {},
   "outputs": [
    {
     "name": "stdout",
     "output_type": "stream",
     "text": [
      "Enter 'q' anytime to quit.\n",
      "Please give me your first name: a\n",
      "Please give me your last name: a\n",
      "\tA A\n",
      "Please give me your first name: a\n",
      "Please give me your last name: q\n"
     ]
    }
   ],
   "source": [
    "from name import get_formatted_name\n",
    "print(\"Enter 'q' anytime to quit.\")\n",
    "while True:\n",
    "    first = input(\"Please give me your first name: \")\n",
    "    if first.lower() == 'q':\n",
    "        break\n",
    "    last = input(\"Please give me your last name: \")\n",
    "    if last == 'q':\n",
    "        break\n",
    "    \n",
    "    formatted_name = get_formatted_name(first,last)\n",
    "    print(f'\\t{formatted_name}')"
   ]
  },
  {
   "cell_type": "code",
   "execution_count": 6,
   "id": "54d58c35",
   "metadata": {},
   "outputs": [
    {
     "name": "stderr",
     "output_type": "stream",
     "text": [
      "E\n",
      "======================================================================\n",
      "ERROR: C:\\Users\\HP\\AppData\\Roaming\\jupyter\\runtime\\kernel-95bc09d6-5802-431a-b40b-599ce3cef211 (unittest.loader._FailedTest)\n",
      "----------------------------------------------------------------------\n",
      "AttributeError: module '__main__' has no attribute 'C:\\Users\\HP\\AppData\\Roaming\\jupyter\\runtime\\kernel-95bc09d6-5802-431a-b40b-599ce3cef211'\n",
      "\n",
      "----------------------------------------------------------------------\n",
      "Ran 1 test in 0.001s\n",
      "\n",
      "FAILED (errors=1)\n"
     ]
    },
    {
     "ename": "SystemExit",
     "evalue": "True",
     "output_type": "error",
     "traceback": [
      "An exception has occurred, use %tb to see the full traceback.\n",
      "\u001b[1;31mSystemExit\u001b[0m\u001b[1;31m:\u001b[0m True\n"
     ]
    },
    {
     "name": "stderr",
     "output_type": "stream",
     "text": [
      "C:\\Users\\HP\\anaconda3\\lib\\site-packages\\IPython\\core\\interactiveshell.py:3445: UserWarning: To exit: use 'exit', 'quit', or Ctrl-D.\n",
      "  warn(\"To exit: use 'exit', 'quit', or Ctrl-D.\", stacklevel=1)\n"
     ]
    }
   ],
   "source": [
    "import unittest\n",
    "from name import get_formatted_name\n",
    "\n",
    "class NamesTestCase(unittest.TestCase):\n",
    "    \"\"\"Test for 'name_function.py'.\"\"\"\n",
    "    \n",
    "    def test_first_last_name(self):\n",
    "        \"\"\"Do names like 'Janis Joplin works?'\"\"\"\n",
    "        formatted_name = get_formatted_name('janis','joplin')\n",
    "        self.assertEqual(formatted_name,'Janis Joplin')\n",
    "        \n",
    "if __name__ == '__main__':\n",
    "    unittest.main()"
   ]
  }
 ],
 "metadata": {
  "kernelspec": {
   "display_name": "Python 3",
   "language": "python",
   "name": "python3"
  },
  "language_info": {
   "codemirror_mode": {
    "name": "ipython",
    "version": 3
   },
   "file_extension": ".py",
   "mimetype": "text/x-python",
   "name": "python",
   "nbconvert_exporter": "python",
   "pygments_lexer": "ipython3",
   "version": "3.8.8"
  }
 },
 "nbformat": 4,
 "nbformat_minor": 5
}
