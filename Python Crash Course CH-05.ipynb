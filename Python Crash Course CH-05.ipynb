{
 "cells": [
  {
   "cell_type": "code",
   "execution_count": 1,
   "id": "9d4b1f1b",
   "metadata": {},
   "outputs": [
    {
     "name": "stdout",
     "output_type": "stream",
     "text": [
      "Avon\n",
      "Audi\n",
      "Subaru\n",
      "BMW\n"
     ]
    }
   ],
   "source": [
    "cars =['avon' , 'audi' , 'subaru' , 'bmw']\n",
    "for car in cars:\n",
    "    if(car == 'bmw'):\n",
    "        print(car.upper())\n",
    "    else:\n",
    "        print(car.title())"
   ]
  },
  {
   "cell_type": "code",
   "execution_count": 2,
   "id": "7d64b1b3",
   "metadata": {},
   "outputs": [
    {
     "data": {
      "text/plain": [
       "False"
      ]
     },
     "execution_count": 2,
     "metadata": {},
     "output_type": "execute_result"
    }
   ],
   "source": [
    "pizza = ['basic' , 'cheese' , 'veg' , 'non-veg']\n",
    "my_pizza = 'Margherita'\n",
    "\n",
    "my_pizza.lower() in pizza"
   ]
  },
  {
   "cell_type": "code",
   "execution_count": 3,
   "id": "096d3f36",
   "metadata": {},
   "outputs": [
    {
     "data": {
      "text/plain": [
       "True"
      ]
     },
     "execution_count": 3,
     "metadata": {},
     "output_type": "execute_result"
    }
   ],
   "source": [
    "my_pizza not in pizza\n"
   ]
  },
  {
   "cell_type": "code",
   "execution_count": 5,
   "id": "dfa74abb",
   "metadata": {},
   "outputs": [
    {
     "name": "stdout",
     "output_type": "stream",
     "text": [
      "Margherita what are you doing here!\n"
     ]
    }
   ],
   "source": [
    "if my_pizza not in pizza:\n",
    "    print(f'{my_pizza.title()} what are you doing here!')"
   ]
  },
  {
   "cell_type": "code",
   "execution_count": null,
   "id": "7ed4b80c",
   "metadata": {},
   "outputs": [],
   "source": [
    "5-1. Conditional Tests: Write a series of conditional tests. Print a statement\n",
    "describing each test and your prediction for the results of each test. Your code\n",
    "should look something like this:\n",
    "car = 'subaru'\n",
    "print(\"Is car == 'subaru'? I predict True.\")\n",
    "print(car == 'subaru')\n",
    "print(\"\\nIs car == 'audi'? I predict False.\")\n",
    "print(car == 'audi')\n",
    "•\t Look closely at your results, and make sure you understand why each line\n",
    "evaluates to True or False.\n",
    "•\t Create at least ten tests. Have at least five tests evaluate to True and\n",
    "another five tests evaluate to False."
   ]
  },
  {
   "cell_type": "code",
   "execution_count": 2,
   "id": "987e0d84",
   "metadata": {},
   "outputs": [
    {
     "name": "stdout",
     "output_type": "stream",
     "text": [
      "Is it a 'subaru'? I think yes!.\n",
      "True\n",
      "Is it a 'audi'? i don't think so!\n",
      "False\n"
     ]
    }
   ],
   "source": [
    "car = 'subaru'\n",
    "print(\"Is it a 'subaru'? I think yes!.\")\n",
    "print(car == 'subaru')\n",
    "print(\"Is it a 'audi'? i don't think so!\")\n",
    "print(car == 'audi')"
   ]
  },
  {
   "cell_type": "code",
   "execution_count": 7,
   "id": "8eb1c561",
   "metadata": {},
   "outputs": [
    {
     "name": "stdout",
     "output_type": "stream",
     "text": [
      "i assume 'Audi'. Lets check : Audi\n",
      "\n",
      "\n",
      "Ummm.. 'berrette'. lets check : Berreta\n"
     ]
    }
   ],
   "source": [
    "cars = ['audi','berreta','hero','honda']\n",
    "for x in cars:\n",
    "    if(x[0].lower() == 'a'):\n",
    "        print(f\"i assume 'Audi'. Lets check : {x.title()}\")\n",
    "    else:\n",
    "        if(x[1].lower() == 'e' and x[0].lower() == 'b'):\n",
    "            print(f\"\\n\\nUmmm.. 'berrette'. lets check : {x.title()}\")"
   ]
  },
  {
   "cell_type": "code",
   "execution_count": 8,
   "id": "edd03dca",
   "metadata": {},
   "outputs": [],
   "source": [
    "pizza = ['Taste' , 'Yummy' , 'Delicious' , 'Cheese']"
   ]
  },
  {
   "cell_type": "code",
   "execution_count": 11,
   "id": "5a43dcd3",
   "metadata": {},
   "outputs": [
    {
     "name": "stdout",
     "output_type": "stream",
     "text": [
      "Good pizza have Taste\n",
      "Wow! very Yummy\n",
      "Wow! very Delicious\n",
      "Good pizza have Cheese\n"
     ]
    }
   ],
   "source": [
    "for x in pizza:\n",
    "    if(x[-1].lower() == 'e'):\n",
    "        print(f\"Good pizza have {x.title()}\")\n",
    "    else:\n",
    "        if(x[-1].lower() == 'y' or x[-1].lower() =='s'):\n",
    "            print(f\"Wow! very {x.title()}\")"
   ]
  },
  {
   "cell_type": "code",
   "execution_count": null,
   "id": "158ef9bb",
   "metadata": {},
   "outputs": [],
   "source": [
    "5-2. More Conditional Tests: You don’t have to limit the number of tests you\n",
    "create to ten. If you want to try more comparisons, write more tests and add\n",
    "them to conditional_tests.py. Have at least one True and one False result for\n",
    "each of the following:\n",
    "•\t Tests for equality and inequality with strings\n",
    "•\t Tests using the lower() method\n",
    "•\t Numerical tests involving equality and inequality, greater than and\n",
    "less than, greater than or equal to, and less than or equal to\n",
    "•\t Tests using the and keyword and the or keyword\n",
    "•\t Test whether an item is in a list\n",
    "•\t Test whether an item is not in a list"
   ]
  },
  {
   "cell_type": "code",
   "execution_count": 12,
   "id": "7f624cdf",
   "metadata": {},
   "outputs": [
    {
     "data": {
      "text/plain": [
       "True"
      ]
     },
     "execution_count": 12,
     "metadata": {},
     "output_type": "execute_result"
    }
   ],
   "source": [
    "cars  = ['scorp' ,'Bolero' , 'Audi' ,'Bmw']\n",
    "'scorp' in cars"
   ]
  },
  {
   "cell_type": "code",
   "execution_count": 13,
   "id": "8357b63c",
   "metadata": {},
   "outputs": [
    {
     "data": {
      "text/plain": [
       "True"
      ]
     },
     "execution_count": 13,
     "metadata": {},
     "output_type": "execute_result"
    }
   ],
   "source": [
    "'c' not in cars"
   ]
  },
  {
   "cell_type": "code",
   "execution_count": 14,
   "id": "d212d47b",
   "metadata": {},
   "outputs": [
    {
     "data": {
      "text/plain": [
       "True"
      ]
     },
     "execution_count": 14,
     "metadata": {},
     "output_type": "execute_result"
    }
   ],
   "source": [
    "'Scorp'.lower() in cars"
   ]
  },
  {
   "cell_type": "code",
   "execution_count": 15,
   "id": "7b8ac537",
   "metadata": {},
   "outputs": [
    {
     "data": {
      "text/plain": [
       "True"
      ]
     },
     "execution_count": 15,
     "metadata": {},
     "output_type": "execute_result"
    }
   ],
   "source": [
    "'bolero'.title() in cars"
   ]
  },
  {
   "cell_type": "code",
   "execution_count": 16,
   "id": "00ca1bb8",
   "metadata": {},
   "outputs": [
    {
     "data": {
      "text/plain": [
       "['scorp', 'Bolero', 'Audi', 'Bmw']"
      ]
     },
     "execution_count": 16,
     "metadata": {},
     "output_type": "execute_result"
    }
   ],
   "source": [
    "cars"
   ]
  },
  {
   "cell_type": "code",
   "execution_count": 21,
   "id": "bd01143a",
   "metadata": {},
   "outputs": [
    {
     "name": "stdout",
     "output_type": "stream",
     "text": [
      "Scorpio.\n",
      "Bolero\n",
      "Audi\n",
      "Bmw\n"
     ]
    }
   ],
   "source": [
    "for x in cars:\n",
    "    if (x[0:2] == 'sc' and x[-1].lower() == 'p' ):\n",
    "        print('Scorpio.')\n",
    "    else:\n",
    "        if('BoLeRo'.title() in cars):\n",
    "            print(x)\n",
    "        else:\n",
    "            print(x.title())"
   ]
  },
  {
   "cell_type": "code",
   "execution_count": 10,
   "id": "13da29cf",
   "metadata": {},
   "outputs": [
    {
     "name": "stdout",
     "output_type": "stream",
     "text": [
      "Red added.\n",
      "Cheese also added.\n",
      "Looks will be added.\n",
      "All of Like are added!\n",
      "All of Blood are added!\n"
     ]
    }
   ],
   "source": [
    "pizza = ['Red','Cheese','Looks','Like','Blood']\n",
    "for x in pizza:\n",
    "    if(x == 'red'.title()):\n",
    "        print(f'{x} added.')\n",
    "    if(x == 'cheese'.title()):\n",
    "        print(f'{x} also added.')\n",
    "    if(x[0:3] == 'loo'.title()):\n",
    "        print(f'{x} will be added.')\n",
    "    if(x.lower() == 'like' or x.lower()== 'blood'):\n",
    "        print(f'All of {x} are added!')"
   ]
  },
  {
   "cell_type": "code",
   "execution_count": null,
   "id": "e0a63f81",
   "metadata": {},
   "outputs": [],
   "source": [
    "5-3. Alien Colors #1: Imagine an alien was just shot down in a game. Create a\n",
    "variable called alien_color and assign it a value of 'green', 'yellow', or 'red'.\n",
    "•\t Write an if statement to test whether the alien’s color is green. If it is, print\n",
    "a message that the player just earned 5 points.\n",
    "•\t Write one version of this program that passes the if test and another that\n",
    "fails. (The version that fails will have no output.)"
   ]
  },
  {
   "cell_type": "code",
   "execution_count": 34,
   "id": "68e77dbe",
   "metadata": {},
   "outputs": [],
   "source": [
    "color = ['green' , 'yellow' , 'red']\n",
    "\n",
    "alien_color = 'green'\n",
    "\n",
    "if(alien_color.lower() == 'green'.lower()):\n",
    "    print('Player has got 5 marks.')"
   ]
  },
  {
   "cell_type": "code",
   "execution_count": null,
   "id": "57d3fd5f",
   "metadata": {},
   "outputs": [],
   "source": [
    "5-4. Alien Colors #2: Choose a color for an alien as you did in Exercise 5-3, and\n",
    "write an if-else chain.\n",
    "•\t If the alien’s color is green, print a statement that the player just earned\n",
    "5 points for shooting the alien.\n",
    "•\t If the alien’s color isn’t green, print a statement that the player just earned\n",
    "10 points.\n",
    "•\t Write one version of this program that runs the if block and another that\n",
    "runs the else block."
   ]
  },
  {
   "cell_type": "code",
   "execution_count": 31,
   "id": "57fa3253",
   "metadata": {},
   "outputs": [],
   "source": [
    "alien_color = 'r'"
   ]
  },
  {
   "cell_type": "code",
   "execution_count": 32,
   "id": "9585e180",
   "metadata": {},
   "outputs": [
    {
     "name": "stdout",
     "output_type": "stream",
     "text": [
      "Player just earned 10 marks.\n"
     ]
    }
   ],
   "source": [
    "if(alien_color.lower() == color[0].lower()):\n",
    "    print('Player just earned 5 marks.')\n",
    "    \n",
    "else:\n",
    "    print('Player just earned 10 marks.')"
   ]
  },
  {
   "cell_type": "code",
   "execution_count": null,
   "id": "cb2809ff",
   "metadata": {},
   "outputs": [],
   "source": [
    "Turn your if-else chain from Exercise 5-4 into an if-elifelse chain.\n",
    "•\t If the alien is green, print a message that the player earned 5 points.\n",
    "•\t If the alien is yellow, print a message that the player earned 10 points.\n",
    "•\t If the alien is red, print a message that the player earned 15 points.\n",
    "•\t Write three versions of this program, making sure each message is printed\n",
    "for the appropriate color alien"
   ]
  },
  {
   "cell_type": "code",
   "execution_count": 42,
   "id": "1327ecd2",
   "metadata": {},
   "outputs": [
    {
     "name": "stdout",
     "output_type": "stream",
     "text": [
      "Player just earned 5 points.\n"
     ]
    }
   ],
   "source": [
    "alien_color = 'green'\n",
    "color = ['Green' , 'Red' , 'Yellow']\n",
    "\n",
    "if(alien_color.lower() == 'green'):\n",
    "    print('Player just earned 5 points.')\n",
    "elif(alien_color.lower() == 'red' ):\n",
    "    print('Palyer just earned 15 points.')\n",
    "else:\n",
    "    if(alien_color.lower() == 'yellow'):\n",
    "        print('Player just earned 10 points.')"
   ]
  },
  {
   "cell_type": "code",
   "execution_count": null,
   "id": "93b47b8b",
   "metadata": {},
   "outputs": [],
   "source": [
    "5-6. Stages of Life: Write an if-elif-else chain that determines a person’s\n",
    "stage of life. Set a value for the variable age, and then:\n",
    "•\t If the person is less than 2 years old, print a message that the person is\n",
    "a baby.\n",
    "•\t If the person is at least 2 years old but less than 4, print a message that\n",
    "the person is a toddler.\n",
    "•\t If the person is at least 4 years old but less than 13, print a message that\n",
    "the person is a kid.\n",
    "•\t If the person is at least 13 years old but less than 20, print a message that\n",
    "the person is a teenager.\n",
    "•\t If the person is at least 20 years old but less than 65, print a message that\n",
    "the person is an adult.\n",
    "•\t If the person is age 65 or older, print a message that the person is an\n",
    "elder."
   ]
  },
  {
   "cell_type": "code",
   "execution_count": 56,
   "id": "d6e3434b",
   "metadata": {},
   "outputs": [
    {
     "name": "stdout",
     "output_type": "stream",
     "text": [
      "The person is in his 'Toddler' age.\n"
     ]
    }
   ],
   "source": [
    "age =2\n",
    "if(age < 2):\n",
    "    message = 'baby'\n",
    "elif(age ==2 or age < 4):\n",
    "    message = 'toddler'\n",
    "elif(age == 4 or age <13):\n",
    "    message = 'kid'\n",
    "elif(age == 13 or age < 20):\n",
    "    message = 'teenager'\n",
    "elif(age == 20 or age < 65):\n",
    "    message = 'adult'\n",
    "else:\n",
    "    if(age == 65 or age > 65):\n",
    "        message = 'elder'\n",
    "        \n",
    "print(f\"The person is in his '{message.title()}' age.\")"
   ]
  },
  {
   "cell_type": "markdown",
   "id": "2ad533cd",
   "metadata": {},
   "source": [
    "5-7. Favorite Fruit: Make a list of your favorite fruits, and then write a series of\n",
    "independent if statements that check for certain fruits in your list.\n",
    "•\t Make a list of your three favorite fruits and call it favorite_fruits.\n",
    "•\t Write five if statements. Each should check whether a certain kind of fruit\n",
    "is in your list. If the fruit is in your list, the if block should print a statement,\n",
    "such as You really like bananas!"
   ]
  },
  {
   "cell_type": "code",
   "execution_count": 57,
   "id": "82609c5e",
   "metadata": {},
   "outputs": [],
   "source": [
    "fav_friuts = ['banana' , 'apple' ,'aloo']"
   ]
  },
  {
   "cell_type": "code",
   "execution_count": 62,
   "id": "47ec212f",
   "metadata": {},
   "outputs": [
    {
     "name": "stdout",
     "output_type": "stream",
     "text": [
      "You really like banana.\n",
      "You really like aloo\n"
     ]
    }
   ],
   "source": [
    "if 'banana' in fav_friuts:\n",
    "    print('You really like banana.')\n",
    "if 'orange' in fav_friuts:\n",
    "    print('You really like Oranges.')\n",
    "if 'aloo' in fav_friuts:\n",
    "    print('You really like aloo')"
   ]
  },
  {
   "cell_type": "code",
   "execution_count": 5,
   "id": "fa70b589",
   "metadata": {},
   "outputs": [
    {
     "name": "stdout",
     "output_type": "stream",
     "text": [
      "Are are sure about requested toppings\n"
     ]
    }
   ],
   "source": [
    "requested_toppings = []\n",
    "if requested_toppings:\n",
    "    for requested_topping in requested_toppings:\n",
    "        print(f'{requested_topping}')\n",
    "print('Are are sure about requested toppings')"
   ]
  },
  {
   "cell_type": "code",
   "execution_count": null,
   "id": "627fa302",
   "metadata": {},
   "outputs": [],
   "source": [
    "-8. Hello Admin: Make a list of five or more usernames, including the name\n",
    "'admin'. Imagine you are writing code that will print a greeting to each user\n",
    "after they log in to a website. Loop through the list, and print a greeting to\n",
    "each user:\n",
    "•\t If the username is 'admin', print a special greeting, such as Hello admin,\n",
    "would you like to see a status report?\n",
    "•\t Otherwise, print a generic greeting, such as Hello Jaden, thank you for\n",
    "logging in again."
   ]
  },
  {
   "cell_type": "code",
   "execution_count": 1,
   "id": "a2f97375",
   "metadata": {},
   "outputs": [
    {
     "name": "stdout",
     "output_type": "stream",
     "text": [
      "Welcome admin\n",
      "Welcome imran\n",
      "Welcome us\n",
      "Welcome delhi\n",
      "Welcome bengaluru\n"
     ]
    }
   ],
   "source": [
    "u_name = ['admin' , 'imran' , 'us' , 'delhi' ,'bengaluru']\n",
    "for x in u_name:\n",
    "    print(f\"Welcome {x}\")"
   ]
  },
  {
   "cell_type": "code",
   "execution_count": 5,
   "id": "946dfec6",
   "metadata": {},
   "outputs": [
    {
     "name": "stdout",
     "output_type": "stream",
     "text": [
      "Extremely happy to see you here Admin\n",
      "Get back to work Imran\n",
      "Get back to work Us\n",
      "Get back to work Delhi\n",
      "Get back to work Bengaluru\n"
     ]
    }
   ],
   "source": [
    "for x in u_name:\n",
    "    if (x.lower() == 'admin'.lower() ):\n",
    "        print(f\"Extremely happy to see you here {x.title()}\")\n",
    "    else:\n",
    "        print(f'Get back to work {x.title()}')"
   ]
  },
  {
   "cell_type": "code",
   "execution_count": null,
   "id": "286df602",
   "metadata": {},
   "outputs": [],
   "source": [
    "5-9. No Users: Add an if test to hello_admin.py to make sure the list of users is\n",
    "not empty.\n",
    "•\t If the list is empty, print the message We need to find some users!\n",
    "•\t Remove all of the usernames from your list, and make sure the correct\n",
    "message is printed."
   ]
  },
  {
   "cell_type": "code",
   "execution_count": 34,
   "id": "4e2f7796",
   "metadata": {},
   "outputs": [],
   "source": [
    "names = ['imran' ,'mirza' , 'anjum' , 'maghish' , 'Hashmi']"
   ]
  },
  {
   "cell_type": "code",
   "execution_count": 39,
   "id": "db218f34",
   "metadata": {},
   "outputs": [
    {
     "name": "stdout",
     "output_type": "stream",
     "text": [
      "Addsome\n"
     ]
    }
   ],
   "source": [
    "if(names):\n",
    "    for x in names:\n",
    "        print(f\"Hello mr. {x}\")\n",
    "        "
   ]
  },
  {
   "cell_type": "code",
   "execution_count": 5,
   "id": "d58b10f8",
   "metadata": {},
   "outputs": [
    {
     "name": "stdout",
     "output_type": "stream",
     "text": [
      "Cheese added!\n",
      "Dragon Glue added!\n"
     ]
    }
   ],
   "source": [
    "requested_toppings = ['cHeese','dragon glue']\n",
    "if requested_toppings:\n",
    "    for x in requested_toppings:\n",
    "        print(f'{x.title()} added!')\n",
    "else:\n",
    "    print('Are you sure Plain pizza!')"
   ]
  },
  {
   "cell_type": "code",
   "execution_count": 8,
   "id": "d62bd3a5",
   "metadata": {},
   "outputs": [
    {
     "name": "stdout",
     "output_type": "stream",
     "text": [
      "Added kheera\n",
      "Added aloo\n",
      "Sorry! we don't have tt\n",
      "Finished making pizza!\n"
     ]
    }
   ],
   "source": [
    "avail_toppings = ['kheera' , 'aloo' , 'cheese' ,'Butter' ,'papita']\n",
    "requested_toppings = ['kheera','aloo','tt']\n",
    "\n",
    "for x in requested_toppings:\n",
    "    if x in avail_toppings:\n",
    "        print(f'Added {x}')\n",
    "    else:\n",
    "        print(f\"Sorry! we don't have {x}\")\n",
    "print('Finished making pizza!')"
   ]
  },
  {
   "cell_type": "code",
   "execution_count": null,
   "id": "6daf44cd",
   "metadata": {},
   "outputs": [],
   "source": [
    "5-10. Checking Usernames: Do the following to create a program that simulates\n",
    "how websites ensure that everyone has a unique username.\n",
    "•\t Make a list of five or more usernames called current_users.\n",
    "•\t Make another list of five usernames called new_users. Make sure one or\n",
    "two of the new usernames are also in the current_users list.\n",
    "•\t Loop through the new_users list to see if each new username has already\n",
    "been used. If it has, print a message that the person will need to enter a\n",
    "new username. If a username has not been used, print a message saying\n",
    "that the username is available.\n",
    "•\t Make sure your comparison is case insensitive. If 'John' has been used,\n",
    "'JOHN' should not be accepted. (To do this, you’ll need to make a copy of\n",
    "current_users containing the lowercase versions of all existing users.)"
   ]
  },
  {
   "cell_type": "code",
   "execution_count": 22,
   "id": "ab5af8ba",
   "metadata": {},
   "outputs": [
    {
     "name": "stdout",
     "output_type": "stream",
     "text": [
      "Great!, sarah is still available/.\n",
      "Sorry!, Willie have already been taken.\n",
      "Great!, PHIL is still available/.\n",
      "Sorry!, ever have already been taken.\n",
      "Great!, Iona is still available/.\n"
     ]
    }
   ],
   "source": [
    "current_users = ['eric', 'willie', 'admin', 'erin', 'Ever']\n",
    "new_users = ['sarah', 'Willie', 'PHIL', 'ever', 'Iona']\n",
    "        \n",
    "current_users_lower = [x.lower() for x in current_users]\n",
    "\n",
    "for x in new_users:\n",
    "    if x.lower() in current_users_lower:\n",
    "        print('Sorry!, ' + x + \" have already been taken.\")\n",
    "    else:\n",
    "        print('Great!, ' + x + \" is still available/.\")"
   ]
  },
  {
   "cell_type": "code",
   "execution_count": null,
   "id": "9f38f144",
   "metadata": {},
   "outputs": [],
   "source": [
    "Ordinal numbers indicate their position in a list, such\n",
    "as 1st or 2nd. Most ordinal numbers end in th, except 1, 2, and 3.\n",
    "•\t Store the numbers 1 through 9 in a list.\n",
    "•\t Loop through the list.\n",
    "•\t Use an if-elif-else chain inside the loop to print the proper ordinal ending for each number. Your output should read \"1st 2nd 3rd 4th 5th 6th\n",
    "7th 8th 9th\", and each result should be on a separate line."
   ]
  },
  {
   "cell_type": "code",
   "execution_count": 28,
   "id": "56d6b967",
   "metadata": {
    "scrolled": true
   },
   "outputs": [
    {
     "name": "stdout",
     "output_type": "stream",
     "text": [
      "1st\n",
      "2nd\n",
      "3rd\n",
      "4th\n",
      "5th\n",
      "6th\n",
      "7th\n",
      "8th\n",
      "9th\n"
     ]
    }
   ],
   "source": [
    "for x in range(1,10):\n",
    "    if(x == 1):\n",
    "        y = 'st'\n",
    "    elif(x == 2):\n",
    "        y = 'nd'\n",
    "    elif(x == 3):\n",
    "        y = 'rd'\n",
    "    else:\n",
    "        y = 'th'\n",
    "    print(f'{x}{y}')"
   ]
  },
  {
   "cell_type": "code",
   "execution_count": null,
   "id": "9678b63f",
   "metadata": {},
   "outputs": [],
   "source": []
  }
 ],
 "metadata": {
  "kernelspec": {
   "display_name": "Python 3",
   "language": "python",
   "name": "python3"
  },
  "language_info": {
   "codemirror_mode": {
    "name": "ipython",
    "version": 3
   },
   "file_extension": ".py",
   "mimetype": "text/x-python",
   "name": "python",
   "nbconvert_exporter": "python",
   "pygments_lexer": "ipython3",
   "version": "3.8.8"
  }
 },
 "nbformat": 4,
 "nbformat_minor": 5
}
