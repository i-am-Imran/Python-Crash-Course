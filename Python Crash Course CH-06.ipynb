{
 "cells": [
  {
   "cell_type": "code",
   "execution_count": 1,
   "id": "89d04709",
   "metadata": {},
   "outputs": [],
   "source": [
    "#    A data structure.\n",
    "#    DICTIONARY = Consist of values with 'key:value' pair inside Curly Braces."
   ]
  },
  {
   "cell_type": "code",
   "execution_count": 2,
   "id": "a8f9fbc5",
   "metadata": {},
   "outputs": [
    {
     "name": "stdout",
     "output_type": "stream",
     "text": [
      "{'color': 'green'}\n"
     ]
    }
   ],
   "source": [
    "alien_0 = {'color':'green'}\n",
    "print(alien_0)"
   ]
  },
  {
   "cell_type": "code",
   "execution_count": 3,
   "id": "d50671c8",
   "metadata": {},
   "outputs": [],
   "source": [
    "alien_0['color'] ='green'"
   ]
  },
  {
   "cell_type": "code",
   "execution_count": 4,
   "id": "4f7e331b",
   "metadata": {},
   "outputs": [],
   "source": [
    "alien_0['red'] = 'Second color'"
   ]
  },
  {
   "cell_type": "code",
   "execution_count": 5,
   "id": "e3e980ad",
   "metadata": {},
   "outputs": [
    {
     "data": {
      "text/plain": [
       "{'color': 'green', 'red': 'Second color'}"
      ]
     },
     "execution_count": 5,
     "metadata": {},
     "output_type": "execute_result"
    }
   ],
   "source": [
    "alien_0"
   ]
  },
  {
   "cell_type": "code",
   "execution_count": 6,
   "id": "1d66cefe",
   "metadata": {},
   "outputs": [
    {
     "data": {
      "text/plain": [
       "'Green'"
      ]
     },
     "execution_count": 6,
     "metadata": {},
     "output_type": "execute_result"
    }
   ],
   "source": [
    "alien_0['color'].title()"
   ]
  },
  {
   "cell_type": "code",
   "execution_count": 7,
   "id": "1694fa23",
   "metadata": {},
   "outputs": [
    {
     "data": {
      "text/plain": [
       "{'color': 'green', 'red': 'Second color'}"
      ]
     },
     "execution_count": 7,
     "metadata": {},
     "output_type": "execute_result"
    }
   ],
   "source": [
    "alien_0"
   ]
  },
  {
   "cell_type": "code",
   "execution_count": 8,
   "id": "f490dd29",
   "metadata": {},
   "outputs": [
    {
     "name": "stdout",
     "output_type": "stream",
     "text": [
      "The alien color is green\n"
     ]
    }
   ],
   "source": [
    "print(f\"The alien color is {alien_0['color']}\")"
   ]
  },
  {
   "cell_type": "code",
   "execution_count": 9,
   "id": "de4551cc",
   "metadata": {},
   "outputs": [
    {
     "name": "stdout",
     "output_type": "stream",
     "text": [
      "Alien color has changed to blue\n"
     ]
    }
   ],
   "source": [
    "alien_0['color'] = 'blue'\n",
    "print(f\"Alien color has changed to {alien_0['color']}\")"
   ]
  },
  {
   "cell_type": "code",
   "execution_count": 10,
   "id": "f0be3903",
   "metadata": {},
   "outputs": [],
   "source": [
    "alien_0 = {'x_position' : 0,'y_position':25 ,'speed':'medium'}\n",
    "if alien_0['speed'] == 'slow':\n",
    "    x_increment = 1\n",
    "elif alien_0['speed'] == 'medium':\n",
    "    x_increment = 2\n",
    "else:\n",
    "    x_increment = 3\n",
    "    "
   ]
  },
  {
   "cell_type": "code",
   "execution_count": 11,
   "id": "55437759",
   "metadata": {},
   "outputs": [
    {
     "data": {
      "text/plain": [
       "{'x_position': 0, 'y_position': 25, 'speed': 'medium'}"
      ]
     },
     "execution_count": 11,
     "metadata": {},
     "output_type": "execute_result"
    }
   ],
   "source": [
    "alien_0"
   ]
  },
  {
   "cell_type": "code",
   "execution_count": 12,
   "id": "1d4d0ec3",
   "metadata": {},
   "outputs": [],
   "source": [
    "alien_0['x_position'] = alien_0['x_position'] + x_increment"
   ]
  },
  {
   "cell_type": "code",
   "execution_count": 13,
   "id": "cbe92987",
   "metadata": {},
   "outputs": [
    {
     "data": {
      "text/plain": [
       "{'x_position': 2, 'y_position': 25, 'speed': 'medium'}"
      ]
     },
     "execution_count": 13,
     "metadata": {},
     "output_type": "execute_result"
    }
   ],
   "source": [
    "alien_0"
   ]
  },
  {
   "cell_type": "code",
   "execution_count": 14,
   "id": "aaad2327",
   "metadata": {},
   "outputs": [],
   "source": [
    "alien_0 = {\n",
    "    'sara':'c',\n",
    "    'gopi':'python',\n",
    "    'rohit':'java'\n",
    "}"
   ]
  },
  {
   "cell_type": "code",
   "execution_count": 15,
   "id": "92661014",
   "metadata": {},
   "outputs": [
    {
     "data": {
      "text/plain": [
       "{'sara': 'c', 'gopi': 'python', 'rohit': 'java'}"
      ]
     },
     "execution_count": 15,
     "metadata": {},
     "output_type": "execute_result"
    }
   ],
   "source": [
    "alien_0"
   ]
  },
  {
   "cell_type": "code",
   "execution_count": 16,
   "id": "659442d8",
   "metadata": {},
   "outputs": [
    {
     "name": "stdout",
     "output_type": "stream",
     "text": [
      "The favourite language of Sara is C.\n"
     ]
    }
   ],
   "source": [
    "language = alien_0['sara']\n",
    "print(f'The favourite language of Sara is {language.title()}.')"
   ]
  },
  {
   "cell_type": "code",
   "execution_count": 17,
   "id": "77fb6e16",
   "metadata": {},
   "outputs": [
    {
     "data": {
      "text/plain": [
       "'This is not a game you smart man!'"
      ]
     },
     "execution_count": 17,
     "metadata": {},
     "output_type": "execute_result"
    }
   ],
   "source": [
    "alien_0.get('pearl','This is not a game you smart man!')"
   ]
  },
  {
   "cell_type": "code",
   "execution_count": 18,
   "id": "df1a6d5e",
   "metadata": {},
   "outputs": [
    {
     "ename": "SyntaxError",
     "evalue": "invalid syntax (<ipython-input-18-f575e9704f8f>, line 2)",
     "output_type": "error",
     "traceback": [
      "\u001b[1;36m  File \u001b[1;32m\"<ipython-input-18-f575e9704f8f>\"\u001b[1;36m, line \u001b[1;32m2\u001b[0m\n\u001b[1;33m    Person: Use a dictionary to store information about a person you know.\u001b[0m\n\u001b[1;37m                ^\u001b[0m\n\u001b[1;31mSyntaxError\u001b[0m\u001b[1;31m:\u001b[0m invalid syntax\n"
     ]
    }
   ],
   "source": [
    "6-1. \n",
    "Person: Use a dictionary to store information about a person you know.\n",
    "Store their first name, last name, age, and the city in which they live. You\n",
    "should have keys such as first_name, last_name, age, and city. Print each\n",
    "piece of information stored in your dictionary.\n",
    "\n",
    "6-2. \n",
    "Favorite Numbers: Use a dictionary to store people’s favorite numbers.\n",
    "Think of five names, and use them as keys in your dictionary. Think of a favorite\n",
    "number for each person, and store each as a value in your dictionary. Print\n",
    "each person’s name and their favorite number. For even more fun, poll a few\n",
    "friends and get some actual data for your program.\n",
    "\n",
    "6-3. \n",
    "Glossary: A Python dictionary can be used to model an actual dictionary.\n",
    "However, to avoid confusion, let’s call it a glossary.\n",
    "•\t Think of five programming words you’ve learned about in the previous\n",
    "chapters. Use these words as the keys in your glossary, and store their\n",
    "meanings as values.\n",
    "•\t Print each word and its meaning as neatly formatted output. You might\n",
    "print the word followed by a colon and then its meaning, or print the word\n",
    "on one line and then print its meaning indented on a second line. Use the\n",
    "newline character (\\n) to insert a blank line between each word-meaning\n",
    "pair in your output."
   ]
  },
  {
   "cell_type": "code",
   "execution_count": 19,
   "id": "87332509",
   "metadata": {},
   "outputs": [],
   "source": [
    "A_person = {'first_name':'unknown','last_name':'titlee','age':'22','city':'elementor'}"
   ]
  },
  {
   "cell_type": "code",
   "execution_count": 20,
   "id": "c1d63d5d",
   "metadata": {},
   "outputs": [
    {
     "data": {
      "text/plain": [
       "{'first_name': 'unknown',\n",
       " 'last_name': 'titlee',\n",
       " 'age': '22',\n",
       " 'city': 'elementor'}"
      ]
     },
     "execution_count": 20,
     "metadata": {},
     "output_type": "execute_result"
    }
   ],
   "source": [
    "A_person"
   ]
  },
  {
   "cell_type": "code",
   "execution_count": 21,
   "id": "22e874d2",
   "metadata": {},
   "outputs": [],
   "source": [
    "Fav_num = {'sam':82,'zoe':23,'fill':45,'kraken':38,'solo':73}"
   ]
  },
  {
   "cell_type": "code",
   "execution_count": 22,
   "id": "24eae1a5",
   "metadata": {},
   "outputs": [
    {
     "name": "stdout",
     "output_type": "stream",
     "text": [
      "Favorite number of Sam  is :  82\n",
      "Favorite number of Zoe  is :  23\n",
      "Favorite number of Fill is :  45\n",
      "Favorite number of Kraken is : 38\n",
      "Favorite number of Solo is :  73\n"
     ]
    }
   ],
   "source": [
    "print(f\"Favorite number of Sam  is :  {Fav_num['sam']}\")\n",
    "print(f\"Favorite number of Zoe  is :  {Fav_num['zoe']}\")\n",
    "print(f\"Favorite number of Fill is :  {Fav_num['fill']}\")\n",
    "print(f\"Favorite number of Kraken is : {Fav_num['kraken']}\")\n",
    "print(f\"Favorite number of Solo is :  {Fav_num['solo']}\")"
   ]
  },
  {
   "cell_type": "code",
   "execution_count": 1,
   "id": "960aab3d",
   "metadata": {},
   "outputs": [],
   "source": [
    "new_01 = {'array':'program','human':'many','computer':'coding'}"
   ]
  },
  {
   "cell_type": "code",
   "execution_count": 3,
   "id": "cfc409cb",
   "metadata": {},
   "outputs": [
    {
     "name": "stdout",
     "output_type": "stream",
     "text": [
      "Keys are array\n",
      "values are program\n",
      "Keys are human\n",
      "values are many\n",
      "Keys are computer\n",
      "values are coding\n"
     ]
    }
   ],
   "source": [
    "for x,y in new_01.items():\n",
    "    print(f'Keys are {x}')\n",
    "    print(f'values are {y}')"
   ]
  },
  {
   "cell_type": "code",
   "execution_count": 3,
   "id": "a6517dac",
   "metadata": {},
   "outputs": [
    {
     "name": "stdout",
     "output_type": "stream",
     "text": [
      "Imran's favourite language is Python\n",
      "Aman's favourite language is Java\n"
     ]
    }
   ],
   "source": [
    "fav_lang = {'imran   ':'python','aman':'java'}\n",
    "if fav_lang:\n",
    "    for x,y in fav_lang.items():\n",
    "        print(f\"{x.title().strip()}'s favourite language is {y.title()}\")"
   ]
  },
  {
   "cell_type": "code",
   "execution_count": 4,
   "id": "bfef6d2e",
   "metadata": {},
   "outputs": [
    {
     "name": "stdout",
     "output_type": "stream",
     "text": [
      "Python\n",
      "Java\n",
      "C++\n"
     ]
    }
   ],
   "source": [
    "fav_lang = {'imran':'python','aman':'java','rohit':'c++'}\n",
    "if fav_lang:\n",
    "    for x in fav_lang.values():\n",
    "        print(f\"{x.title().strip()}\")"
   ]
  },
  {
   "cell_type": "code",
   "execution_count": 8,
   "id": "19f96f26",
   "metadata": {},
   "outputs": [
    {
     "name": "stdout",
     "output_type": "stream",
     "text": [
      "imran\n",
      "Imran's favourite languge is Python\n"
     ]
    }
   ],
   "source": [
    "freind = {'imran','garvis'}\n",
    "for x in fav_lang:\n",
    "    if x in freind:\n",
    "        lan = fav_lang[x].title()\n",
    "        print(f\"{x.title()}'s favourite languge is {lan}\")"
   ]
  },
  {
   "cell_type": "code",
   "execution_count": 9,
   "id": "61593cc5",
   "metadata": {},
   "outputs": [],
   "source": [
    "favorite_languages = {\n",
    "'jen': 'python',\n",
    "'sarah': 'c',\n",
    "'edward': 'ruby',\n",
    "'phil': 'python',\n",
    "}"
   ]
  },
  {
   "cell_type": "code",
   "execution_count": 11,
   "id": "d1e40a38",
   "metadata": {},
   "outputs": [
    {
     "name": "stdout",
     "output_type": "stream",
     "text": [
      "Jenny take our poll.\n"
     ]
    }
   ],
   "source": [
    "if 'jenny' not in favorite_languages:\n",
    "    print('Jenny take our poll.')"
   ]
  },
  {
   "cell_type": "code",
   "execution_count": 22,
   "id": "8eb14219",
   "metadata": {},
   "outputs": [
    {
     "name": "stdout",
     "output_type": "stream",
     "text": [
      "Edward thanxs for taking the poll\n",
      "Jen thanxs for taking the poll\n",
      "Phil thanxs for taking the poll\n",
      "Sarah thanxs for taking the poll\n"
     ]
    }
   ],
   "source": [
    "for x in sorted(favorite_languages):\n",
    "    print(f\"{x.title()} thanxs for taking the poll\")"
   ]
  },
  {
   "cell_type": "code",
   "execution_count": 26,
   "id": "e444d201",
   "metadata": {},
   "outputs": [
    {
     "name": "stdout",
     "output_type": "stream",
     "text": [
      "Python\n",
      "C\n",
      "Ruby\n"
     ]
    }
   ],
   "source": [
    "for x in set(sorted(favorite_languages.values())):\n",
    "    print(x.title())"
   ]
  },
  {
   "cell_type": "code",
   "execution_count": null,
   "id": "27852e90",
   "metadata": {},
   "outputs": [],
   "source": [
    "6-4. Glossary 2: Now that you know how to loop through a dictionary, clean\n",
    "up the code from Exercise 6-3 (page 99) by replacing your series of print()\n",
    "calls with a loop that runs through the dictionary’s keys and values. When\n",
    "you’re sure that your loop works, add five more Python terms to your glossary.\n",
    "When you run your program again, these new words and meanings should\n",
    "automatically be included in the output"
   ]
  },
  {
   "cell_type": "code",
   "execution_count": 20,
   "id": "c54cc7f8",
   "metadata": {},
   "outputs": [
    {
     "name": "stdout",
     "output_type": "stream",
     "text": [
      "Username is Efermi\n",
      "First is Enrico\n",
      "Last is Fermi\n",
      "School is Bal Bhawan\n",
      "Age is 21\n",
      "City is Town\n",
      "Game is Pubg\n",
      "From is Bihar\n"
     ]
    }
   ],
   "source": [
    "user_0 = {\n",
    "'username': 'efermi',\n",
    "'first': 'enrico',\n",
    "'last': 'fermi',\n",
    "'school':'bal bhawan',\n",
    "'age':'21','city':'town',\n",
    "'game':'pubg',\n",
    "'from':'bihar'\n",
    "}\n",
    "for x,y in user_0.items():\n",
    "    print(f\"{x.title() } is {y.title()}\")"
   ]
  },
  {
   "cell_type": "code",
   "execution_count": null,
   "id": "04922ddf",
   "metadata": {},
   "outputs": [],
   "source": [
    "6-5. Rivers: Make a dictionary containing three major rivers and the country\n",
    "each river runs through. One key-value pair might be 'nile': 'egypt'.\n",
    "•\t Use a loop to print a sentence about each river, such as The Nile runs\n",
    "through Egypt.\n",
    "•\t Use a loop to print the name of each river included in the dictionary.\n",
    "•\t Use a loop to print the name of each country included in the dictionary."
   ]
  },
  {
   "cell_type": "code",
   "execution_count": 30,
   "id": "ebd4190f",
   "metadata": {},
   "outputs": [],
   "source": [
    "rivers = {'satlug':'patna','dhaba':'durgapur','nile':'egypt'}"
   ]
  },
  {
   "cell_type": "code",
   "execution_count": 35,
   "id": "ca6a66e8",
   "metadata": {},
   "outputs": [
    {
     "name": "stdout",
     "output_type": "stream",
     "text": [
      "Satlug runs from Patna\n",
      "Dhaba runs from Durgapur\n",
      "Nile runs from Egypt\n"
     ]
    }
   ],
   "source": [
    "for x,y in rivers.items():\n",
    "    print(x.title()+\" runs from \"+y.title())"
   ]
  },
  {
   "cell_type": "code",
   "execution_count": 36,
   "id": "776d6b3a",
   "metadata": {},
   "outputs": [
    {
     "name": "stdout",
     "output_type": "stream",
     "text": [
      "All rivers/keys\n",
      "satlug\n",
      "dhaba\n",
      "nile\n"
     ]
    }
   ],
   "source": [
    "print(\"All rivers/keys\")\n",
    "for x in rivers:\n",
    "    print(x)"
   ]
  },
  {
   "cell_type": "code",
   "execution_count": 39,
   "id": "7d57ed8b",
   "metadata": {},
   "outputs": [
    {
     "name": "stdout",
     "output_type": "stream",
     "text": [
      "All values/cities\n",
      "Patna\n",
      "Durgapur\n",
      "Egypt\n"
     ]
    }
   ],
   "source": [
    "print(\"All values/cities\")\n",
    "for x in rivers.values():\n",
    "    print(x.title())"
   ]
  },
  {
   "cell_type": "code",
   "execution_count": null,
   "id": "582bfc89",
   "metadata": {},
   "outputs": [],
   "source": [
    "6-6. Polling: Use the code in favorite_languages.py (page 97).\n",
    "•\t Make a list of people who should take the favorite languages poll. Include\n",
    "some names that are already in the dictionary and some that are not.\n",
    "•\t Loop through the list of people who should take the poll. If they have\n",
    "already taken the poll, print a message thanking them for responding.\n",
    "If they have not yet taken the poll, print a message inviting them to take\n",
    "the poll"
   ]
  },
  {
   "cell_type": "code",
   "execution_count": 44,
   "id": "27376a56",
   "metadata": {},
   "outputs": [],
   "source": [
    "freinds = {'tahir','ehsan','golu','rohit','arya','ned'}\n",
    "\n",
    "polls_done = {'golu':'python','rohit':'java','sonu':'go','imran':'r'}"
   ]
  },
  {
   "cell_type": "code",
   "execution_count": 48,
   "id": "0311933e",
   "metadata": {},
   "outputs": [
    {
     "name": "stdout",
     "output_type": "stream",
     "text": [
      "Ned, You are eligible now Please give the poll Asap.\n",
      "Ehsan, You are eligible now Please give the poll Asap.\n",
      "Golu, thanxs you gave the poll-Python.\n",
      "Tahir, You are eligible now Please give the poll Asap.\n",
      "Arya, You are eligible now Please give the poll Asap.\n",
      "Rohit, thanxs you gave the poll-Java.\n"
     ]
    }
   ],
   "source": [
    "for x in freinds:\n",
    "    if x in polls_done.keys():   \n",
    "            print(f\"{x.title()}, thanxs you gave the poll-{polls_done[x].title()}.\")\n",
    "    else:\n",
    "        print(f\"{x.title()}, You are eligible now Please give the poll Asap.\")"
   ]
  },
  {
   "cell_type": "code",
   "execution_count": 1,
   "id": "d3513607",
   "metadata": {},
   "outputs": [],
   "source": [
    "alien_0 = {'color':'green','speed':'slow','point':'5'}\n",
    "alien_1 = {'color':'red','speed':'medium','point':'10'}\n",
    "alien_2 = {'color':'blue','speed':'fast','point':'25'}\n",
    "\n",
    "aliens = [alien_0,alien_1,alien_2]"
   ]
  },
  {
   "cell_type": "code",
   "execution_count": 3,
   "id": "212da289",
   "metadata": {},
   "outputs": [
    {
     "ename": "TypeError",
     "evalue": "'<' not supported between instances of 'dict' and 'dict'",
     "output_type": "error",
     "traceback": [
      "\u001b[1;31m---------------------------------------------------------------------------\u001b[0m",
      "\u001b[1;31mTypeError\u001b[0m                                 Traceback (most recent call last)",
      "\u001b[1;32m<ipython-input-3-46b9b7a8f379>\u001b[0m in \u001b[0;36m<module>\u001b[1;34m\u001b[0m\n\u001b[1;32m----> 1\u001b[1;33m \u001b[0msorted\u001b[0m\u001b[1;33m(\u001b[0m\u001b[0maliens\u001b[0m\u001b[1;33m)\u001b[0m\u001b[1;33m\u001b[0m\u001b[1;33m\u001b[0m\u001b[0m\n\u001b[0m",
      "\u001b[1;31mTypeError\u001b[0m: '<' not supported between instances of 'dict' and 'dict'"
     ]
    }
   ],
   "source": [
    "sorted(aliens)"
   ]
  },
  {
   "cell_type": "code",
   "execution_count": 1,
   "id": "f1cb4328",
   "metadata": {},
   "outputs": [],
   "source": [
    "aliens = []\n",
    "for x in range(30):\n",
    "    x = {'color':'blue','speed':'medium','points':'25'}\n",
    "    aliens.append(x)    "
   ]
  },
  {
   "cell_type": "code",
   "execution_count": 15,
   "id": "869a43fc",
   "metadata": {},
   "outputs": [],
   "source": [
    "for alien in aliens[:3]:\n",
    "    if alien['color'] == 'blue':\n",
    "        alien['color'] = 'black'\n",
    "        alien['speed'] = 'fast'\n",
    "        alien['points'] = 22\n",
    "        "
   ]
  },
  {
   "cell_type": "code",
   "execution_count": 16,
   "id": "35182b53",
   "metadata": {},
   "outputs": [
    {
     "data": {
      "text/plain": [
       "[{'color': 'black', 'speed': ('fast',), 'points': '22'},\n",
       " {'color': 'black', 'speed': ('fast',), 'points': '22'},\n",
       " {'color': 'black', 'speed': ('fast',), 'points': '22'},\n",
       " {'color': 'blue', 'speed': 'medium', 'points': '25'},\n",
       " {'color': 'blue', 'speed': 'medium', 'points': '25'},\n",
       " {'color': 'blue', 'speed': 'medium', 'points': '25'},\n",
       " {'color': 'blue', 'speed': 'medium', 'points': '25'},\n",
       " {'color': 'blue', 'speed': 'medium', 'points': '25'},\n",
       " {'color': 'blue', 'speed': 'medium', 'points': '25'},\n",
       " {'color': 'blue', 'speed': 'medium', 'points': '25'},\n",
       " {'color': 'blue', 'speed': 'medium', 'points': '25'},\n",
       " {'color': 'blue', 'speed': 'medium', 'points': '25'},\n",
       " {'color': 'blue', 'speed': 'medium', 'points': '25'},\n",
       " {'color': 'blue', 'speed': 'medium', 'points': '25'},\n",
       " {'color': 'blue', 'speed': 'medium', 'points': '25'},\n",
       " {'color': 'blue', 'speed': 'medium', 'points': '25'},\n",
       " {'color': 'blue', 'speed': 'medium', 'points': '25'},\n",
       " {'color': 'blue', 'speed': 'medium', 'points': '25'},\n",
       " {'color': 'blue', 'speed': 'medium', 'points': '25'},\n",
       " {'color': 'blue', 'speed': 'medium', 'points': '25'},\n",
       " {'color': 'blue', 'speed': 'medium', 'points': '25'},\n",
       " {'color': 'blue', 'speed': 'medium', 'points': '25'},\n",
       " {'color': 'blue', 'speed': 'medium', 'points': '25'},\n",
       " {'color': 'blue', 'speed': 'medium', 'points': '25'},\n",
       " {'color': 'blue', 'speed': 'medium', 'points': '25'},\n",
       " {'color': 'blue', 'speed': 'medium', 'points': '25'},\n",
       " {'color': 'blue', 'speed': 'medium', 'points': '25'},\n",
       " {'color': 'blue', 'speed': 'medium', 'points': '25'},\n",
       " {'color': 'blue', 'speed': 'medium', 'points': '25'},\n",
       " {'color': 'blue', 'speed': 'medium', 'points': '25'}]"
      ]
     },
     "execution_count": 16,
     "metadata": {},
     "output_type": "execute_result"
    }
   ],
   "source": [
    "[x for x in aliens]"
   ]
  },
  {
   "cell_type": "code",
   "execution_count": 17,
   "id": "2f1c90c3",
   "metadata": {},
   "outputs": [],
   "source": [
    "# List inside Dict, are sometimes very useful.\n",
    "pizza = {'crust':'thick','toppings':['mushroom','extra cheese'],}"
   ]
  },
  {
   "cell_type": "code",
   "execution_count": 25,
   "id": "f7a82596",
   "metadata": {},
   "outputs": [
    {
     "name": "stdout",
     "output_type": "stream",
     "text": [
      "The pizza you have ordered is Thick-crust.\n",
      "-With following toppings.\n",
      "\tMushroom\n",
      "\tExtra Cheese\n"
     ]
    }
   ],
   "source": [
    "print(f\"The pizza you have ordered is {pizza['crust'].title()}-crust.\")\n",
    "print('-With following toppings.')\n",
    "for x in pizza['toppings']:\n",
    "    print('\\t'+x.title())\n",
    "    "
   ]
  },
  {
   "cell_type": "code",
   "execution_count": 34,
   "id": "786aa9c0",
   "metadata": {},
   "outputs": [],
   "source": [
    "favourite_languages = {\n",
    "    'imran':['python','c++'],\n",
    "    'phil':['java','hindi'],\n",
    "    'eli':['go','javascript'],\n",
    "    'sam':['kotlin','ruby']\n",
    "}"
   ]
  },
  {
   "cell_type": "code",
   "execution_count": 45,
   "id": "52bf59c8",
   "metadata": {},
   "outputs": [
    {
     "name": "stdout",
     "output_type": "stream",
     "text": [
      "Imran's favourite languages are:\n",
      " -Python\n",
      " -C++\n",
      "Phil's favourite languages are:\n",
      " -Java\n",
      " -Hindi\n",
      "Eli's favourite languages are:\n",
      " -Go\n",
      " -Javascript\n",
      "Sam's favourite languages are:\n",
      " -Kotlin\n",
      " -Ruby\n"
     ]
    }
   ],
   "source": [
    "for name,languages in favourite_languages.items():\n",
    "    print(f\"{name.title()}'s favourite languages are:\")\n",
    "    for x in languages:\n",
    "        print(f\" -{x.title()}\")"
   ]
  },
  {
   "cell_type": "code",
   "execution_count": 57,
   "id": "5c910f97",
   "metadata": {},
   "outputs": [],
   "source": [
    "users = {\n",
    "    'phil':{\n",
    "        'first_name':'phil',\n",
    "        'second_name':'mormunt',\n",
    "        'age':21},\n",
    "    'jim':{\n",
    "        'first_name':'jim',\n",
    "        'second_name':'robert',\n",
    "        'age':32},\n",
    "    'jon':{\n",
    "        'first_name':'jon',\n",
    "        'second_name':'snow',\n",
    "        'age':22\n",
    "    }\n",
    "}"
   ]
  },
  {
   "cell_type": "code",
   "execution_count": 76,
   "id": "cd8ecaaf",
   "metadata": {},
   "outputs": [
    {
     "name": "stdout",
     "output_type": "stream",
     "text": [
      "Phil's details:\n",
      "-Name : phil mormunt\n",
      "-Age : 21\n",
      "Jim's details:\n",
      "-Name : jim robert\n",
      "-Age : 32\n",
      "Jon's details:\n",
      "-Name : jon snow\n",
      "-Age : 22\n"
     ]
    }
   ],
   "source": [
    "for x,y in users.items():\n",
    "    print(f\"{x.title()}'s details:\")\n",
    "    name = f\"{y['first_name']} {y['second_name']}\"\n",
    "    age = y['age']\n",
    "    print(f\"-Name : {name}\")\n",
    "    print(f\"-Age : {age}\")\n",
    "    "
   ]
  },
  {
   "cell_type": "code",
   "execution_count": null,
   "id": "157e5e50",
   "metadata": {},
   "outputs": [],
   "source": [
    "6-7. \n",
    "People: Start with the program you wrote for Exercise 6-1 (page 99).\n",
    "Make two new dictionaries representing different people, and store all three\n",
    "dictionaries in a list called people. Loop through your list of people. As you\n",
    "loop through the list, print everything you know about each person.\n",
    "6-8. \n",
    "Pets: Make several dictionaries, where each dictionary represents a different pet. \n",
    "In each dictionary, include the kind of animal and the owner’s name.\n",
    "Store these dictionaries in a list called pets. Next, loop through your list and as\n",
    "you do, print everything you know about each pet.\n",
    "6-9. \n",
    "Favorite Places: Make a dictionary called favorite_places. Think of three\n",
    "names to use as keys in the dictionary, and store one to three favorite places\n",
    "for each person. To make this exercise a bit more interesting, ask some friends\n",
    "to name a few of their favorite places. Loop through the dictionary, and print\n",
    "each person’s name and their favorite places."
   ]
  },
  {
   "cell_type": "code",
   "execution_count": 77,
   "id": "31ed4262",
   "metadata": {},
   "outputs": [
    {
     "data": {
      "text/plain": [
       "{'phil': {'first_name': 'phil', 'second_name': 'mormunt', 'age': 21},\n",
       " 'jim': {'first_name': 'jim', 'second_name': 'robert', 'age': 32},\n",
       " 'jon': {'first_name': 'jon', 'second_name': 'snow', 'age': 22}}"
      ]
     },
     "execution_count": 77,
     "metadata": {},
     "output_type": "execute_result"
    }
   ],
   "source": [
    "users"
   ]
  },
  {
   "cell_type": "code",
   "execution_count": 90,
   "id": "8d5ca6f1",
   "metadata": {},
   "outputs": [
    {
     "name": "stdout",
     "output_type": "stream",
     "text": [
      "\n",
      "Phil's details.\n",
      "-Name : Phil Mormunt.\n",
      "-Age  : 21\n",
      "\n",
      "Jim's details.\n",
      "-Name : Jim Robert.\n",
      "-Age  : 32\n",
      "\n",
      "Jon's details.\n",
      "-Name : Jon Snow.\n",
      "-Age  : 22\n"
     ]
    }
   ],
   "source": [
    "for x,y in users.items():\n",
    "    print(f\"\\n{x.title()}'s details.\")\n",
    "    name = f\"{y['first_name'].title()} {y['second_name'].title()}\"\n",
    "    age = y['age']\n",
    "    print(f\"-Name : {name}.\")\n",
    "    print(f'-Age  : {age}')"
   ]
  },
  {
   "cell_type": "code",
   "execution_count": 137,
   "id": "2e391b0d",
   "metadata": {},
   "outputs": [],
   "source": [
    "pets = []\n",
    "horse = {'name':'horse','color':'red','from':'america','age':'11 Yr','owner':'phil'}\n",
    "cat = {'name':'cat','color':'black','from':'gaya','age':'3 Mn','owner':'jon'}\n",
    "wolf = {'name':'wolf','color':'brown','from':'winterfell','age':'20 Yr','owner':'arya'}\n",
    "\n",
    "pets.append(horse)\n",
    "pets.append(cat)\n",
    "pets.append(wolf)\n"
   ]
  },
  {
   "cell_type": "code",
   "execution_count": 144,
   "id": "834d7d17",
   "metadata": {},
   "outputs": [
    {
     "name": "stdout",
     "output_type": "stream",
     "text": [
      "\n",
      "Name : Horse\n",
      "Color : Red\n",
      "From : America\n",
      "Age : 11 Yr\n",
      "Owner : Phil\n",
      "\n",
      "Name : Cat\n",
      "Color : Black\n",
      "From : Gaya\n",
      "Age : 3 Mn\n",
      "Owner : Jon\n",
      "\n",
      "Name : Wolf\n",
      "Color : Brown\n",
      "From : Winterfell\n",
      "Age : 20 Yr\n",
      "Owner : Arya\n"
     ]
    }
   ],
   "source": [
    "for pet in pets:\n",
    "    for name,details in pet.items():\n",
    "        if name == 'name':\n",
    "            print()\n",
    "        print(f\"{name.title()} : {details.title()}\") "
   ]
  },
  {
   "cell_type": "code",
   "execution_count": null,
   "id": "13e28cde",
   "metadata": {},
   "outputs": [],
   "source": [
    "6-9.    Favorite Places: Make a dictionary called favorite_places. Think of three\n",
    "        names to use as keys in the dictionary, and store one to three favorite places\n",
    "        for each person. To make this exercise a bit more interesting, ask some friends\n",
    "        to name a few of their favorite places. Loop through the dictionary, and print\n",
    "        each person’s name and their favorite places.\n",
    "6-10.   Favorite Numbers: Modify your program from Exercise 6-2 (page 99)\n",
    "        so each person can have more than one favorite number. \n",
    "        Then print each person’s name along with their favorite numbers.\n"
   ]
  },
  {
   "cell_type": "code",
   "execution_count": 149,
   "id": "122f739b",
   "metadata": {},
   "outputs": [
    {
     "name": "stdout",
     "output_type": "stream",
     "text": [
      "Phil's favourite place is Norway.\n",
      "Jon's favourite place is Winterfell.\n",
      "Terion's favourite place is Castaly Rock.\n"
     ]
    }
   ],
   "source": [
    "favourite_places = {'phil':'norway','jon':'winterfell','terion':'castaly rock'}\n",
    "for x,y in favourite_places.items():\n",
    "    print(f\"{x.title()}'s favourite place is {y.title()}.\")"
   ]
  },
  {
   "cell_type": "code",
   "execution_count": 153,
   "id": "b17b92f6",
   "metadata": {},
   "outputs": [],
   "source": [
    "fav_num = []\n",
    "\n",
    "rohit = {'f':'rohit','f1':11,'f2':22,'f3':33}\n",
    "jon = {'f':'jon','f1':13,'f2':'24','f3':43}\n",
    "tyrion = {'f':'tyrion','f1':21,'f2':41,'f3':51}\n",
    "\n",
    "fav_num.append(rohit)\n",
    "fav_num.append(jon)\n",
    "fav_num.append(tyrion)"
   ]
  },
  {
   "cell_type": "code",
   "execution_count": 155,
   "id": "54677573",
   "metadata": {},
   "outputs": [
    {
     "ename": "AttributeError",
     "evalue": "'list' object has no attribute 'items'",
     "output_type": "error",
     "traceback": [
      "\u001b[1;31m---------------------------------------------------------------------------\u001b[0m",
      "\u001b[1;31mAttributeError\u001b[0m                            Traceback (most recent call last)",
      "\u001b[1;32m<ipython-input-155-44bb2eb0e29a>\u001b[0m in \u001b[0;36m<module>\u001b[1;34m\u001b[0m\n\u001b[1;32m----> 1\u001b[1;33m \u001b[1;32mfor\u001b[0m \u001b[0mx\u001b[0m\u001b[1;33m,\u001b[0m\u001b[0my\u001b[0m \u001b[1;32min\u001b[0m \u001b[0mfav_num\u001b[0m\u001b[1;33m.\u001b[0m\u001b[0mitems\u001b[0m\u001b[1;33m(\u001b[0m\u001b[1;33m)\u001b[0m\u001b[1;33m:\u001b[0m\u001b[1;33m\u001b[0m\u001b[1;33m\u001b[0m\u001b[0m\n\u001b[0m\u001b[0;32m      2\u001b[0m     \u001b[0mprint\u001b[0m\u001b[1;33m(\u001b[0m\u001b[0mx\u001b[0m\u001b[1;33m,\u001b[0m\u001b[0my\u001b[0m\u001b[1;33m)\u001b[0m\u001b[1;33m\u001b[0m\u001b[1;33m\u001b[0m\u001b[0m\n",
      "\u001b[1;31mAttributeError\u001b[0m: 'list' object has no attribute 'items'"
     ]
    }
   ],
   "source": [
    "for x in fav_num:\n",
    "    for a,b in x\n",
    "    print(x,y)"
   ]
  },
  {
   "cell_type": "code",
   "execution_count": null,
   "id": "5d1cae7d",
   "metadata": {},
   "outputs": [],
   "source": [
    "6-10. Favorite Numbers: Modify your program from Exercise 6-2 (page 99)\n",
    "so each person can have more than one favorite number. Then print each person’s \n",
    "name along with their favorite numbers.\n",
    "\n",
    "6-11. Cities: Make a dictionary called cities. Use the names of three cities as\n",
    "keys in your dictionary. Create a dictionary of information about each city and\n",
    "include the country that the city is in, its approximate population, and one fact\n",
    "about that city. The keys for each city’s dictionary should be something like\n",
    "country, population, and fact. Print the name of each city and \n",
    "all of the information you have stored about it.\n",
    "\n",
    "6-12. Extensions: We’re now working with examples that are complex enough\n",
    "that they can be extended in any number of ways. Use one of the example programs \n",
    "from this chapter, \n",
    "and extend it by adding new keys and values, \n",
    "changing the context of the program or improving the formatting of the output."
   ]
  },
  {
   "cell_type": "code",
   "execution_count": 6,
   "id": "7dcea664",
   "metadata": {},
   "outputs": [],
   "source": [
    "fv = {'john':[1,22,31],'will':[32,56,77],'brian':[77,90,97],}"
   ]
  },
  {
   "cell_type": "code",
   "execution_count": 19,
   "id": "886628e5",
   "metadata": {},
   "outputs": [
    {
     "name": "stdout",
     "output_type": "stream",
     "text": [
      "John's favourite numbers are:\n",
      "[1, 22, 31]\n",
      "Will's favourite numbers are:\n",
      "[32, 56, 77]\n",
      "Brian's favourite numbers are:\n",
      "[77, 90, 97]\n"
     ]
    }
   ],
   "source": [
    "for x,y in fv.items():\n",
    "    print(f\"{x.title()}'s favourite numbers are:\\n{y}\")"
   ]
  },
  {
   "cell_type": "code",
   "execution_count": 20,
   "id": "5656a2a8",
   "metadata": {},
   "outputs": [],
   "source": [
    "gaya = {'name':'gaya','country':'india','population':'over 1 million','fact':'i live here'}\n",
    "nyc = {'name':'new york city','country':'america','population':'over 10 million','fact':'very rich and developed country'}\n",
    "berlin = {'name':'berlin','country':'usa','population':'over 1 million','fact':'unknown'}\n",
    "cities = {'gaya':gaya,'nyc':nyc,'berlin':berlin}"
   ]
  },
  {
   "cell_type": "code",
   "execution_count": 29,
   "id": "9cac63d3",
   "metadata": {},
   "outputs": [
    {
     "name": "stdout",
     "output_type": "stream",
     "text": [
      "\n",
      "Gaya's details:\n",
      "\tName:Gaya\n",
      "\tCountry:India\n",
      "\tPopulation:Over 1 Million\n",
      "\tFact:I Live Here\n",
      "\n",
      "Nyc's details:\n",
      "\tName:New York City\n",
      "\tCountry:America\n",
      "\tPopulation:Over 10 Million\n",
      "\tFact:Very Rich And Developed Country\n",
      "\n",
      "Berlin's details:\n",
      "\tName:Berlin\n",
      "\tCountry:Usa\n",
      "\tPopulation:Over 1 Million\n",
      "\tFact:Unknown\n"
     ]
    }
   ],
   "source": [
    "for x,y in cities.items():\n",
    "    \n",
    "    print(f\"\\n{x.title()}'s details:\")\n",
    "    for a,b in y.items():\n",
    "        print(f\"\\t{a.title()}:{b.title()}\")"
   ]
  },
  {
   "cell_type": "code",
   "execution_count": null,
   "id": "f89cb6c0",
   "metadata": {},
   "outputs": [],
   "source": [
    "6-12. Extensions: \n",
    "We’re now working with examples that are complex enough\n",
    "that they can be extended in any number of ways. \n",
    "Use one of the example programs from this chapter, \n",
    "and extend it by adding new keys and values,\n",
    "changing the context of the program or improving the formatting of the output"
   ]
  }
 ],
 "metadata": {
  "kernelspec": {
   "display_name": "Python 3",
   "language": "python",
   "name": "python3"
  },
  "language_info": {
   "codemirror_mode": {
    "name": "ipython",
    "version": 3
   },
   "file_extension": ".py",
   "mimetype": "text/x-python",
   "name": "python",
   "nbconvert_exporter": "python",
   "pygments_lexer": "ipython3",
   "version": "3.8.8"
  }
 },
 "nbformat": 4,
 "nbformat_minor": 5
}
