{
 "cells": [
  {
   "cell_type": "code",
   "execution_count": 7,
   "id": "26ab32f0",
   "metadata": {},
   "outputs": [],
   "source": [
    "from admin import *"
   ]
  },
  {
   "cell_type": "code",
   "execution_count": 8,
   "id": "4cea6149",
   "metadata": {},
   "outputs": [],
   "source": [
    "me = Admin('imran','mirza',22,'india')"
   ]
  },
  {
   "cell_type": "code",
   "execution_count": 9,
   "id": "1332f4ff",
   "metadata": {},
   "outputs": [
    {
     "name": "stdout",
     "output_type": "stream",
     "text": [
      "Name: Imran Mirza.\n",
      "Age: 22. \n",
      "From: India.\n"
     ]
    }
   ],
   "source": [
    "me.describe_user()"
   ]
  },
  {
   "cell_type": "code",
   "execution_count": 14,
   "id": "c904d0d9",
   "metadata": {},
   "outputs": [
    {
     "name": "stdout",
     "output_type": "stream",
     "text": [
      "\n",
      "Following are privileges only for admin:\n",
      "-can add post\n",
      "-can delete post\n",
      "-can ban user\n",
      "-can update feed\n"
     ]
    }
   ],
   "source": [
    "me.my_privileges.show_privileges()"
   ]
  },
  {
   "cell_type": "code",
   "execution_count": null,
   "id": "8e40c9ba",
   "metadata": {},
   "outputs": [],
   "source": []
  }
 ],
 "metadata": {
  "kernelspec": {
   "display_name": "Python 3",
   "language": "python",
   "name": "python3"
  },
  "language_info": {
   "codemirror_mode": {
    "name": "ipython",
    "version": 3
   },
   "file_extension": ".py",
   "mimetype": "text/x-python",
   "name": "python",
   "nbconvert_exporter": "python",
   "pygments_lexer": "ipython3",
   "version": "3.8.8"
  }
 },
 "nbformat": 4,
 "nbformat_minor": 5
}
