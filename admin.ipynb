{
 "cells": [
  {
   "cell_type": "code",
   "execution_count": 1,
   "id": "152dea3d",
   "metadata": {},
   "outputs": [],
   "source": [
    "\"\"\"Separate admin profile and privileges class of \"\"\"\n",
    "\n",
    "from user import User\n",
    "\n",
    "class Admin_Privileges:\n",
    "    '''Separate privilege(offered to admin) class for admin'''\n",
    "    def __init__(self):\n",
    "        '''A admin have these privileges'''\n",
    "        self.privileges = ['can add post','can delete post','can ban user','can update feed']\n",
    "        \n",
    "    def show_privileges(self):\n",
    "        print('\\nFollowing are privileges only for admin:')\n",
    "        for x in self.privileges:\n",
    "            print('-'+x)\n",
    "            \n",
    "            \n",
    "class Admin(User):\n",
    "    '''Inherited from User class, A class for admin'''\n",
    "    def __init__(self,f_name,l_name,age,country):\n",
    "        super().__init__(f_name,l_name,age,country)\n",
    "        self.my_privileges = Admin_Privileges()"
   ]
  }
 ],
 "metadata": {
  "kernelspec": {
   "display_name": "Python 3",
   "language": "python",
   "name": "python3"
  },
  "language_info": {
   "codemirror_mode": {
    "name": "ipython",
    "version": 3
   },
   "file_extension": ".py",
   "mimetype": "text/x-python",
   "name": "python",
   "nbconvert_exporter": "python",
   "pygments_lexer": "ipython3",
   "version": "3.8.8"
  }
 },
 "nbformat": 4,
 "nbformat_minor": 5
}
