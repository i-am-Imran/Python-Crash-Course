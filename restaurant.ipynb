{
 "cells": [
  {
   "cell_type": "code",
   "execution_count": 3,
   "id": "440a2292",
   "metadata": {},
   "outputs": [],
   "source": [
    "'''A simple attempt to model a restaurant'''\n",
    "class Restaurant:\n",
    "    def __init__(self,name,cusine_type):\n",
    "        \"\"\"Creating a restaurant class\"\"\"\n",
    "        self.name = name\n",
    "        self.cusine_type = cusine_type\n",
    "        self.number_served = 0\n",
    "        \n",
    "    def describe_restaurant(self):\n",
    "        \"\"\"this method is for displaying name and type only\"\"\"\n",
    "        print(f\"The Restaurant name is {self.name.title()}.\")\n",
    "        print(f\"A {self.cusine_type.title()}-type of restaurant.\")\n",
    "        \n",
    "    def open_restaurant(self):\n",
    "        \"\"\"Check if restaurant is open/closed.\"\"\"\n",
    "        print(f\"The restaurant, {self.name.title()} is open now.\")\n",
    "        \n",
    "    def customer_served(self):\n",
    "        \"\"\"How many customer we have served\"\"\"\n",
    "        print(f'This restaurant has served over-{self.number_served} customers.')\n",
    "        \n",
    "    def set_number_served(self,number):\n",
    "        \"\"\"change value of customer we have served\"\"\"\n",
    "        self.number_served = number\n",
    "        \n",
    "    def increment_number_served(self,number):\n",
    "        '''increment value od customer served'''\n",
    "        self.number_served += number\n",
    "    \n",
    "    "
   ]
  }
 ],
 "metadata": {
  "kernelspec": {
   "display_name": "Python 3",
   "language": "python",
   "name": "python3"
  },
  "language_info": {
   "codemirror_mode": {
    "name": "ipython",
    "version": 3
   },
   "file_extension": ".py",
   "mimetype": "text/x-python",
   "name": "python",
   "nbconvert_exporter": "python",
   "pygments_lexer": "ipython3",
   "version": "3.8.8"
  }
 },
 "nbformat": 4,
 "nbformat_minor": 5
}
